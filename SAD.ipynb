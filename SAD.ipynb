{
 "cells": [
  {
   "cell_type": "markdown",
   "id": "ec85235f",
   "metadata": {},
   "source": [
    "## Проект: Анализ данных сервиса GoFast\n",
    "\n",
    "Описание сервиса:\n",
    "\n",
    "Сервис GoFast предоставляет возможность аренды электросамокатов через мобильное приложение. Существуют два типа пользователей:\n",
    "\n",
    "Без подписки:\n",
    "Абонентская плата отсутствует.\n",
    "Стоимость минуты поездки - 8 рублей.\n",
    "Стоимость старта - 50 рублей.\n",
    "\n",
    "С подпиской Ultra:\n",
    "Абонентская плата - 199 рублей в месяц.\n",
    "Стоимость минуты поездки - 6 рублей.\n",
    "Стоимость старта - бесплатно.\n",
    "\n",
    "Цель проекта:\n",
    "\n",
    "Проанализировать данные о пользователях GoFast из разных городов, включая информацию о их поездках. Цель исследования - проверить ряд гипотез, направленных на оптимизацию сервиса и его рост.\n",
    "\n",
    "Задачи проекта:\n",
    "\n",
    "Проанализировать поведение пользователей с разными типами подписки.\n",
    "Определить факторы, влияющие на выбор пользователей между подпиской и оплатой по минутам.\n",
    "Оценить влияние тарифов на активность пользователей (количество поездок, продолжительность поездок).\n",
    "Изучить географические различия в поведении пользователей. \n",
    "Разработать рекомендации для GoFast по улучшению сервиса и привлечению новых пользователей."
   ]
  },
  {
   "cell_type": "markdown",
   "id": "c98015bc",
   "metadata": {},
   "source": [
    "----------------------"
   ]
  },
  {
   "cell_type": "code",
   "execution_count": 1,
   "id": "e5507c85",
   "metadata": {},
   "outputs": [],
   "source": [
    "import pandas as pd\n",
    "import plotly.express as px\n",
    "import matplotlib.pyplot as plt\n",
    "from scipy import stats as st\n",
    "import plotly.graph_objects as go\n",
    "import numpy as np"
   ]
  },
  {
   "cell_type": "markdown",
   "id": "cfc2c6f9",
   "metadata": {},
   "source": [
    "#### Шаг 1. Загрузка данных"
   ]
  },
  {
   "cell_type": "code",
   "execution_count": 2,
   "id": "c77d3438",
   "metadata": {},
   "outputs": [
    {
     "name": "stdout",
     "output_type": "stream",
     "text": [
      "<class 'pandas.core.frame.DataFrame'>\n",
      "RangeIndex: 1565 entries, 0 to 1564\n",
      "Data columns (total 5 columns):\n",
      " #   Column             Non-Null Count  Dtype \n",
      "---  ------             --------------  ----- \n",
      " 0   user_id            1565 non-null   int64 \n",
      " 1   name               1565 non-null   object\n",
      " 2   age                1565 non-null   int64 \n",
      " 3   city               1565 non-null   object\n",
      " 4   subscription_type  1565 non-null   object\n",
      "dtypes: int64(2), object(3)\n",
      "memory usage: 61.3+ KB\n"
     ]
    }
   ],
   "source": [
    "data_1 = pd.read_csv('/datasets/users_go.csv')\n",
    "data_1.info()"
   ]
  },
  {
   "cell_type": "code",
   "execution_count": 3,
   "id": "cc0f3bdd",
   "metadata": {},
   "outputs": [
    {
     "data": {
      "text/html": [
       "<div>\n",
       "<style scoped>\n",
       "    .dataframe tbody tr th:only-of-type {\n",
       "        vertical-align: middle;\n",
       "    }\n",
       "\n",
       "    .dataframe tbody tr th {\n",
       "        vertical-align: top;\n",
       "    }\n",
       "\n",
       "    .dataframe thead th {\n",
       "        text-align: right;\n",
       "    }\n",
       "</style>\n",
       "<table border=\"1\" class=\"dataframe\">\n",
       "  <thead>\n",
       "    <tr style=\"text-align: right;\">\n",
       "      <th></th>\n",
       "      <th>user_id</th>\n",
       "      <th>age</th>\n",
       "    </tr>\n",
       "  </thead>\n",
       "  <tbody>\n",
       "    <tr>\n",
       "      <th>count</th>\n",
       "      <td>1565.000000</td>\n",
       "      <td>1565.000000</td>\n",
       "    </tr>\n",
       "    <tr>\n",
       "      <th>mean</th>\n",
       "      <td>762.633866</td>\n",
       "      <td>24.922045</td>\n",
       "    </tr>\n",
       "    <tr>\n",
       "      <th>std</th>\n",
       "      <td>443.260155</td>\n",
       "      <td>4.553496</td>\n",
       "    </tr>\n",
       "    <tr>\n",
       "      <th>min</th>\n",
       "      <td>1.000000</td>\n",
       "      <td>12.000000</td>\n",
       "    </tr>\n",
       "    <tr>\n",
       "      <th>25%</th>\n",
       "      <td>378.000000</td>\n",
       "      <td>22.000000</td>\n",
       "    </tr>\n",
       "    <tr>\n",
       "      <th>50%</th>\n",
       "      <td>762.000000</td>\n",
       "      <td>25.000000</td>\n",
       "    </tr>\n",
       "    <tr>\n",
       "      <th>75%</th>\n",
       "      <td>1146.000000</td>\n",
       "      <td>28.000000</td>\n",
       "    </tr>\n",
       "    <tr>\n",
       "      <th>max</th>\n",
       "      <td>1534.000000</td>\n",
       "      <td>43.000000</td>\n",
       "    </tr>\n",
       "  </tbody>\n",
       "</table>\n",
       "</div>"
      ],
      "text/plain": [
       "           user_id          age\n",
       "count  1565.000000  1565.000000\n",
       "mean    762.633866    24.922045\n",
       "std     443.260155     4.553496\n",
       "min       1.000000    12.000000\n",
       "25%     378.000000    22.000000\n",
       "50%     762.000000    25.000000\n",
       "75%    1146.000000    28.000000\n",
       "max    1534.000000    43.000000"
      ]
     },
     "execution_count": 3,
     "metadata": {},
     "output_type": "execute_result"
    }
   ],
   "source": [
    "data_1.describe()"
   ]
  },
  {
   "cell_type": "code",
   "execution_count": 4,
   "id": "9e1a805a",
   "metadata": {
    "scrolled": true
   },
   "outputs": [
    {
     "data": {
      "text/html": [
       "<div>\n",
       "<style scoped>\n",
       "    .dataframe tbody tr th:only-of-type {\n",
       "        vertical-align: middle;\n",
       "    }\n",
       "\n",
       "    .dataframe tbody tr th {\n",
       "        vertical-align: top;\n",
       "    }\n",
       "\n",
       "    .dataframe thead th {\n",
       "        text-align: right;\n",
       "    }\n",
       "</style>\n",
       "<table border=\"1\" class=\"dataframe\">\n",
       "  <thead>\n",
       "    <tr style=\"text-align: right;\">\n",
       "      <th></th>\n",
       "      <th>user_id</th>\n",
       "      <th>name</th>\n",
       "      <th>age</th>\n",
       "      <th>city</th>\n",
       "      <th>subscription_type</th>\n",
       "    </tr>\n",
       "  </thead>\n",
       "  <tbody>\n",
       "    <tr>\n",
       "      <th>0</th>\n",
       "      <td>1</td>\n",
       "      <td>Кира</td>\n",
       "      <td>22</td>\n",
       "      <td>Тюмень</td>\n",
       "      <td>ultra</td>\n",
       "    </tr>\n",
       "    <tr>\n",
       "      <th>1</th>\n",
       "      <td>2</td>\n",
       "      <td>Станислав</td>\n",
       "      <td>31</td>\n",
       "      <td>Омск</td>\n",
       "      <td>ultra</td>\n",
       "    </tr>\n",
       "    <tr>\n",
       "      <th>2</th>\n",
       "      <td>3</td>\n",
       "      <td>Алексей</td>\n",
       "      <td>20</td>\n",
       "      <td>Москва</td>\n",
       "      <td>ultra</td>\n",
       "    </tr>\n",
       "    <tr>\n",
       "      <th>3</th>\n",
       "      <td>4</td>\n",
       "      <td>Константин</td>\n",
       "      <td>26</td>\n",
       "      <td>Ростов-на-Дону</td>\n",
       "      <td>ultra</td>\n",
       "    </tr>\n",
       "    <tr>\n",
       "      <th>4</th>\n",
       "      <td>5</td>\n",
       "      <td>Адель</td>\n",
       "      <td>28</td>\n",
       "      <td>Омск</td>\n",
       "      <td>ultra</td>\n",
       "    </tr>\n",
       "    <tr>\n",
       "      <th>5</th>\n",
       "      <td>6</td>\n",
       "      <td>Регина</td>\n",
       "      <td>25</td>\n",
       "      <td>Краснодар</td>\n",
       "      <td>ultra</td>\n",
       "    </tr>\n",
       "    <tr>\n",
       "      <th>6</th>\n",
       "      <td>7</td>\n",
       "      <td>Игорь</td>\n",
       "      <td>23</td>\n",
       "      <td>Омск</td>\n",
       "      <td>ultra</td>\n",
       "    </tr>\n",
       "    <tr>\n",
       "      <th>7</th>\n",
       "      <td>8</td>\n",
       "      <td>Юрий</td>\n",
       "      <td>23</td>\n",
       "      <td>Краснодар</td>\n",
       "      <td>ultra</td>\n",
       "    </tr>\n",
       "    <tr>\n",
       "      <th>8</th>\n",
       "      <td>9</td>\n",
       "      <td>Ян</td>\n",
       "      <td>21</td>\n",
       "      <td>Пятигорск</td>\n",
       "      <td>ultra</td>\n",
       "    </tr>\n",
       "    <tr>\n",
       "      <th>9</th>\n",
       "      <td>10</td>\n",
       "      <td>Валерий</td>\n",
       "      <td>18</td>\n",
       "      <td>Екатеринбург</td>\n",
       "      <td>ultra</td>\n",
       "    </tr>\n",
       "    <tr>\n",
       "      <th>10</th>\n",
       "      <td>11</td>\n",
       "      <td>Агата</td>\n",
       "      <td>31</td>\n",
       "      <td>Краснодар</td>\n",
       "      <td>ultra</td>\n",
       "    </tr>\n",
       "    <tr>\n",
       "      <th>11</th>\n",
       "      <td>12</td>\n",
       "      <td>Марк</td>\n",
       "      <td>27</td>\n",
       "      <td>Тюмень</td>\n",
       "      <td>ultra</td>\n",
       "    </tr>\n",
       "    <tr>\n",
       "      <th>12</th>\n",
       "      <td>13</td>\n",
       "      <td>Ева</td>\n",
       "      <td>24</td>\n",
       "      <td>Краснодар</td>\n",
       "      <td>ultra</td>\n",
       "    </tr>\n",
       "    <tr>\n",
       "      <th>13</th>\n",
       "      <td>14</td>\n",
       "      <td>Антонина</td>\n",
       "      <td>18</td>\n",
       "      <td>Пятигорск</td>\n",
       "      <td>ultra</td>\n",
       "    </tr>\n",
       "    <tr>\n",
       "      <th>14</th>\n",
       "      <td>15</td>\n",
       "      <td>Валерия</td>\n",
       "      <td>24</td>\n",
       "      <td>Тюмень</td>\n",
       "      <td>ultra</td>\n",
       "    </tr>\n",
       "  </tbody>\n",
       "</table>\n",
       "</div>"
      ],
      "text/plain": [
       "    user_id        name  age            city subscription_type\n",
       "0         1        Кира   22          Тюмень             ultra\n",
       "1         2   Станислав   31            Омск             ultra\n",
       "2         3     Алексей   20          Москва             ultra\n",
       "3         4  Константин   26  Ростов-на-Дону             ultra\n",
       "4         5       Адель   28            Омск             ultra\n",
       "5         6      Регина   25       Краснодар             ultra\n",
       "6         7       Игорь   23            Омск             ultra\n",
       "7         8        Юрий   23       Краснодар             ultra\n",
       "8         9          Ян   21       Пятигорск             ultra\n",
       "9        10     Валерий   18    Екатеринбург             ultra\n",
       "10       11       Агата   31       Краснодар             ultra\n",
       "11       12        Марк   27          Тюмень             ultra\n",
       "12       13         Ева   24       Краснодар             ultra\n",
       "13       14    Антонина   18       Пятигорск             ultra\n",
       "14       15     Валерия   24          Тюмень             ultra"
      ]
     },
     "execution_count": 4,
     "metadata": {},
     "output_type": "execute_result"
    }
   ],
   "source": [
    "data_1.head(15)"
   ]
  },
  {
   "cell_type": "code",
   "execution_count": 5,
   "id": "75e134e9",
   "metadata": {},
   "outputs": [
    {
     "data": {
      "text/plain": [
       "<bound method DataFrame.info of        user_id     distance   duration        date\n",
       "0            1  4409.919140  25.599769  2021-01-01\n",
       "1            1  2617.592153  15.816871  2021-01-18\n",
       "2            1   754.159807   6.232113  2021-04-20\n",
       "3            1  2694.783254  18.511000  2021-08-11\n",
       "4            1  4028.687306  26.265803  2021-08-28\n",
       "...        ...          ...        ...         ...\n",
       "18063     1534  3781.098080  19.822962  2021-11-04\n",
       "18064     1534  2840.423057  21.409799  2021-11-16\n",
       "18065     1534  3826.185507  18.435051  2021-11-18\n",
       "18066     1534  2902.308661  16.674362  2021-11-27\n",
       "18067     1534  2371.711192  15.893917  2021-12-29\n",
       "\n",
       "[18068 rows x 4 columns]>"
      ]
     },
     "execution_count": 5,
     "metadata": {},
     "output_type": "execute_result"
    }
   ],
   "source": [
    "data_2 = pd.read_csv('/datasets/rides_go.csv')\n",
    "data_2.info"
   ]
  },
  {
   "cell_type": "code",
   "execution_count": 6,
   "id": "6c25c998",
   "metadata": {},
   "outputs": [
    {
     "data": {
      "text/html": [
       "<div>\n",
       "<style scoped>\n",
       "    .dataframe tbody tr th:only-of-type {\n",
       "        vertical-align: middle;\n",
       "    }\n",
       "\n",
       "    .dataframe tbody tr th {\n",
       "        vertical-align: top;\n",
       "    }\n",
       "\n",
       "    .dataframe thead th {\n",
       "        text-align: right;\n",
       "    }\n",
       "</style>\n",
       "<table border=\"1\" class=\"dataframe\">\n",
       "  <thead>\n",
       "    <tr style=\"text-align: right;\">\n",
       "      <th></th>\n",
       "      <th>user_id</th>\n",
       "      <th>distance</th>\n",
       "      <th>duration</th>\n",
       "    </tr>\n",
       "  </thead>\n",
       "  <tbody>\n",
       "    <tr>\n",
       "      <th>count</th>\n",
       "      <td>18068.000000</td>\n",
       "      <td>18068.000000</td>\n",
       "      <td>18068.000000</td>\n",
       "    </tr>\n",
       "    <tr>\n",
       "      <th>mean</th>\n",
       "      <td>842.869936</td>\n",
       "      <td>3070.659976</td>\n",
       "      <td>17.805011</td>\n",
       "    </tr>\n",
       "    <tr>\n",
       "      <th>std</th>\n",
       "      <td>434.734317</td>\n",
       "      <td>1116.831209</td>\n",
       "      <td>6.091051</td>\n",
       "    </tr>\n",
       "    <tr>\n",
       "      <th>min</th>\n",
       "      <td>1.000000</td>\n",
       "      <td>0.855683</td>\n",
       "      <td>0.500000</td>\n",
       "    </tr>\n",
       "    <tr>\n",
       "      <th>25%</th>\n",
       "      <td>487.000000</td>\n",
       "      <td>2543.226360</td>\n",
       "      <td>13.597563</td>\n",
       "    </tr>\n",
       "    <tr>\n",
       "      <th>50%</th>\n",
       "      <td>889.000000</td>\n",
       "      <td>3133.609994</td>\n",
       "      <td>17.678395</td>\n",
       "    </tr>\n",
       "    <tr>\n",
       "      <th>75%</th>\n",
       "      <td>1213.250000</td>\n",
       "      <td>3776.222735</td>\n",
       "      <td>21.724800</td>\n",
       "    </tr>\n",
       "    <tr>\n",
       "      <th>max</th>\n",
       "      <td>1534.000000</td>\n",
       "      <td>7211.007745</td>\n",
       "      <td>40.823963</td>\n",
       "    </tr>\n",
       "  </tbody>\n",
       "</table>\n",
       "</div>"
      ],
      "text/plain": [
       "            user_id      distance      duration\n",
       "count  18068.000000  18068.000000  18068.000000\n",
       "mean     842.869936   3070.659976     17.805011\n",
       "std      434.734317   1116.831209      6.091051\n",
       "min        1.000000      0.855683      0.500000\n",
       "25%      487.000000   2543.226360     13.597563\n",
       "50%      889.000000   3133.609994     17.678395\n",
       "75%     1213.250000   3776.222735     21.724800\n",
       "max     1534.000000   7211.007745     40.823963"
      ]
     },
     "execution_count": 6,
     "metadata": {},
     "output_type": "execute_result"
    }
   ],
   "source": [
    "data_2.describe()"
   ]
  },
  {
   "cell_type": "code",
   "execution_count": 7,
   "id": "86a489d2",
   "metadata": {},
   "outputs": [
    {
     "data": {
      "text/html": [
       "<div>\n",
       "<style scoped>\n",
       "    .dataframe tbody tr th:only-of-type {\n",
       "        vertical-align: middle;\n",
       "    }\n",
       "\n",
       "    .dataframe tbody tr th {\n",
       "        vertical-align: top;\n",
       "    }\n",
       "\n",
       "    .dataframe thead th {\n",
       "        text-align: right;\n",
       "    }\n",
       "</style>\n",
       "<table border=\"1\" class=\"dataframe\">\n",
       "  <thead>\n",
       "    <tr style=\"text-align: right;\">\n",
       "      <th></th>\n",
       "      <th>user_id</th>\n",
       "      <th>distance</th>\n",
       "      <th>duration</th>\n",
       "      <th>date</th>\n",
       "    </tr>\n",
       "  </thead>\n",
       "  <tbody>\n",
       "    <tr>\n",
       "      <th>0</th>\n",
       "      <td>1</td>\n",
       "      <td>4409.919140</td>\n",
       "      <td>25.599769</td>\n",
       "      <td>2021-01-01</td>\n",
       "    </tr>\n",
       "    <tr>\n",
       "      <th>1</th>\n",
       "      <td>1</td>\n",
       "      <td>2617.592153</td>\n",
       "      <td>15.816871</td>\n",
       "      <td>2021-01-18</td>\n",
       "    </tr>\n",
       "    <tr>\n",
       "      <th>2</th>\n",
       "      <td>1</td>\n",
       "      <td>754.159807</td>\n",
       "      <td>6.232113</td>\n",
       "      <td>2021-04-20</td>\n",
       "    </tr>\n",
       "    <tr>\n",
       "      <th>3</th>\n",
       "      <td>1</td>\n",
       "      <td>2694.783254</td>\n",
       "      <td>18.511000</td>\n",
       "      <td>2021-08-11</td>\n",
       "    </tr>\n",
       "    <tr>\n",
       "      <th>4</th>\n",
       "      <td>1</td>\n",
       "      <td>4028.687306</td>\n",
       "      <td>26.265803</td>\n",
       "      <td>2021-08-28</td>\n",
       "    </tr>\n",
       "    <tr>\n",
       "      <th>5</th>\n",
       "      <td>1</td>\n",
       "      <td>2770.890808</td>\n",
       "      <td>16.650138</td>\n",
       "      <td>2021-10-09</td>\n",
       "    </tr>\n",
       "    <tr>\n",
       "      <th>6</th>\n",
       "      <td>1</td>\n",
       "      <td>3039.020292</td>\n",
       "      <td>14.927879</td>\n",
       "      <td>2021-10-19</td>\n",
       "    </tr>\n",
       "    <tr>\n",
       "      <th>7</th>\n",
       "      <td>1</td>\n",
       "      <td>2842.118050</td>\n",
       "      <td>23.117468</td>\n",
       "      <td>2021-11-06</td>\n",
       "    </tr>\n",
       "    <tr>\n",
       "      <th>8</th>\n",
       "      <td>1</td>\n",
       "      <td>3412.690668</td>\n",
       "      <td>15.238072</td>\n",
       "      <td>2021-11-14</td>\n",
       "    </tr>\n",
       "    <tr>\n",
       "      <th>9</th>\n",
       "      <td>1</td>\n",
       "      <td>748.690645</td>\n",
       "      <td>15.041884</td>\n",
       "      <td>2021-11-22</td>\n",
       "    </tr>\n",
       "    <tr>\n",
       "      <th>10</th>\n",
       "      <td>1</td>\n",
       "      <td>4031.020195</td>\n",
       "      <td>17.674448</td>\n",
       "      <td>2021-12-14</td>\n",
       "    </tr>\n",
       "    <tr>\n",
       "      <th>11</th>\n",
       "      <td>1</td>\n",
       "      <td>2720.609748</td>\n",
       "      <td>9.529463</td>\n",
       "      <td>2021-12-22</td>\n",
       "    </tr>\n",
       "    <tr>\n",
       "      <th>12</th>\n",
       "      <td>2</td>\n",
       "      <td>3105.086678</td>\n",
       "      <td>24.307514</td>\n",
       "      <td>2021-03-15</td>\n",
       "    </tr>\n",
       "    <tr>\n",
       "      <th>13</th>\n",
       "      <td>2</td>\n",
       "      <td>3053.519401</td>\n",
       "      <td>11.543256</td>\n",
       "      <td>2021-03-18</td>\n",
       "    </tr>\n",
       "    <tr>\n",
       "      <th>14</th>\n",
       "      <td>2</td>\n",
       "      <td>4029.116927</td>\n",
       "      <td>25.109188</td>\n",
       "      <td>2021-03-23</td>\n",
       "    </tr>\n",
       "  </tbody>\n",
       "</table>\n",
       "</div>"
      ],
      "text/plain": [
       "    user_id     distance   duration        date\n",
       "0         1  4409.919140  25.599769  2021-01-01\n",
       "1         1  2617.592153  15.816871  2021-01-18\n",
       "2         1   754.159807   6.232113  2021-04-20\n",
       "3         1  2694.783254  18.511000  2021-08-11\n",
       "4         1  4028.687306  26.265803  2021-08-28\n",
       "5         1  2770.890808  16.650138  2021-10-09\n",
       "6         1  3039.020292  14.927879  2021-10-19\n",
       "7         1  2842.118050  23.117468  2021-11-06\n",
       "8         1  3412.690668  15.238072  2021-11-14\n",
       "9         1   748.690645  15.041884  2021-11-22\n",
       "10        1  4031.020195  17.674448  2021-12-14\n",
       "11        1  2720.609748   9.529463  2021-12-22\n",
       "12        2  3105.086678  24.307514  2021-03-15\n",
       "13        2  3053.519401  11.543256  2021-03-18\n",
       "14        2  4029.116927  25.109188  2021-03-23"
      ]
     },
     "execution_count": 7,
     "metadata": {},
     "output_type": "execute_result"
    }
   ],
   "source": [
    "data_2.head(15)"
   ]
  },
  {
   "cell_type": "code",
   "execution_count": 8,
   "id": "6e53b347",
   "metadata": {},
   "outputs": [
    {
     "name": "stdout",
     "output_type": "stream",
     "text": [
      "<class 'pandas.core.frame.DataFrame'>\n",
      "RangeIndex: 2 entries, 0 to 1\n",
      "Data columns (total 4 columns):\n",
      " #   Column             Non-Null Count  Dtype \n",
      "---  ------             --------------  ----- \n",
      " 0   subscription_type  2 non-null      object\n",
      " 1   minute_price       2 non-null      int64 \n",
      " 2   start_ride_price   2 non-null      int64 \n",
      " 3   subscription_fee   2 non-null      int64 \n",
      "dtypes: int64(3), object(1)\n",
      "memory usage: 192.0+ bytes\n"
     ]
    }
   ],
   "source": [
    "data_3 = pd.read_csv('/datasets/subscriptions_go.csv')\n",
    "data_3.info()"
   ]
  },
  {
   "cell_type": "code",
   "execution_count": 9,
   "id": "9d7a9aca",
   "metadata": {},
   "outputs": [
    {
     "data": {
      "text/html": [
       "<div>\n",
       "<style scoped>\n",
       "    .dataframe tbody tr th:only-of-type {\n",
       "        vertical-align: middle;\n",
       "    }\n",
       "\n",
       "    .dataframe tbody tr th {\n",
       "        vertical-align: top;\n",
       "    }\n",
       "\n",
       "    .dataframe thead th {\n",
       "        text-align: right;\n",
       "    }\n",
       "</style>\n",
       "<table border=\"1\" class=\"dataframe\">\n",
       "  <thead>\n",
       "    <tr style=\"text-align: right;\">\n",
       "      <th></th>\n",
       "      <th>minute_price</th>\n",
       "      <th>start_ride_price</th>\n",
       "      <th>subscription_fee</th>\n",
       "    </tr>\n",
       "  </thead>\n",
       "  <tbody>\n",
       "    <tr>\n",
       "      <th>count</th>\n",
       "      <td>2.000000</td>\n",
       "      <td>2.000000</td>\n",
       "      <td>2.000000</td>\n",
       "    </tr>\n",
       "    <tr>\n",
       "      <th>mean</th>\n",
       "      <td>7.000000</td>\n",
       "      <td>25.000000</td>\n",
       "      <td>99.500000</td>\n",
       "    </tr>\n",
       "    <tr>\n",
       "      <th>std</th>\n",
       "      <td>1.414214</td>\n",
       "      <td>35.355339</td>\n",
       "      <td>140.714249</td>\n",
       "    </tr>\n",
       "    <tr>\n",
       "      <th>min</th>\n",
       "      <td>6.000000</td>\n",
       "      <td>0.000000</td>\n",
       "      <td>0.000000</td>\n",
       "    </tr>\n",
       "    <tr>\n",
       "      <th>25%</th>\n",
       "      <td>6.500000</td>\n",
       "      <td>12.500000</td>\n",
       "      <td>49.750000</td>\n",
       "    </tr>\n",
       "    <tr>\n",
       "      <th>50%</th>\n",
       "      <td>7.000000</td>\n",
       "      <td>25.000000</td>\n",
       "      <td>99.500000</td>\n",
       "    </tr>\n",
       "    <tr>\n",
       "      <th>75%</th>\n",
       "      <td>7.500000</td>\n",
       "      <td>37.500000</td>\n",
       "      <td>149.250000</td>\n",
       "    </tr>\n",
       "    <tr>\n",
       "      <th>max</th>\n",
       "      <td>8.000000</td>\n",
       "      <td>50.000000</td>\n",
       "      <td>199.000000</td>\n",
       "    </tr>\n",
       "  </tbody>\n",
       "</table>\n",
       "</div>"
      ],
      "text/plain": [
       "       minute_price  start_ride_price  subscription_fee\n",
       "count      2.000000          2.000000          2.000000\n",
       "mean       7.000000         25.000000         99.500000\n",
       "std        1.414214         35.355339        140.714249\n",
       "min        6.000000          0.000000          0.000000\n",
       "25%        6.500000         12.500000         49.750000\n",
       "50%        7.000000         25.000000         99.500000\n",
       "75%        7.500000         37.500000        149.250000\n",
       "max        8.000000         50.000000        199.000000"
      ]
     },
     "execution_count": 9,
     "metadata": {},
     "output_type": "execute_result"
    }
   ],
   "source": [
    "data_3.describe()"
   ]
  },
  {
   "cell_type": "code",
   "execution_count": 10,
   "id": "9ccdf1d9",
   "metadata": {},
   "outputs": [
    {
     "data": {
      "text/html": [
       "<div>\n",
       "<style scoped>\n",
       "    .dataframe tbody tr th:only-of-type {\n",
       "        vertical-align: middle;\n",
       "    }\n",
       "\n",
       "    .dataframe tbody tr th {\n",
       "        vertical-align: top;\n",
       "    }\n",
       "\n",
       "    .dataframe thead th {\n",
       "        text-align: right;\n",
       "    }\n",
       "</style>\n",
       "<table border=\"1\" class=\"dataframe\">\n",
       "  <thead>\n",
       "    <tr style=\"text-align: right;\">\n",
       "      <th></th>\n",
       "      <th>subscription_type</th>\n",
       "      <th>minute_price</th>\n",
       "      <th>start_ride_price</th>\n",
       "      <th>subscription_fee</th>\n",
       "    </tr>\n",
       "  </thead>\n",
       "  <tbody>\n",
       "    <tr>\n",
       "      <th>0</th>\n",
       "      <td>free</td>\n",
       "      <td>8</td>\n",
       "      <td>50</td>\n",
       "      <td>0</td>\n",
       "    </tr>\n",
       "    <tr>\n",
       "      <th>1</th>\n",
       "      <td>ultra</td>\n",
       "      <td>6</td>\n",
       "      <td>0</td>\n",
       "      <td>199</td>\n",
       "    </tr>\n",
       "  </tbody>\n",
       "</table>\n",
       "</div>"
      ],
      "text/plain": [
       "  subscription_type  minute_price  start_ride_price  subscription_fee\n",
       "0              free             8                50                 0\n",
       "1             ultra             6                 0               199"
      ]
     },
     "execution_count": 10,
     "metadata": {},
     "output_type": "execute_result"
    }
   ],
   "source": [
    "data_3.head(15)"
   ]
  },
  {
   "cell_type": "markdown",
   "id": "6fed539a",
   "metadata": {},
   "source": [
    "<font color='blue'>\n",
    "Три датасета записаны в датафреймы с названиями data_1, data_2, data_3.\n",
    "В первом датафрейме 1565 записей, 5 колонок с именами, возрастом, городом проживания, типом подписки и айди пользователей.\n",
    "Во втором датафрейме 18068 записей, 4 колонки с айди, дистанцией, длительностью поездки и датами.\n",
    "В третьем датафрейме 2 записи, 4 колонки с расценками поездки в зависимости от подписки.\n",
    "Столбцы записаны в змеином регистре, данные в колонках соответствуют названию </font>"
   ]
  },
  {
   "cell_type": "markdown",
   "id": "d140a530",
   "metadata": {},
   "source": [
    "#### Шаг 2. Предобработка данных"
   ]
  },
  {
   "cell_type": "code",
   "execution_count": 11,
   "id": "8896bf9b",
   "metadata": {},
   "outputs": [
    {
     "data": {
      "text/plain": [
       "0        26\n",
       "1        16\n",
       "2         7\n",
       "3        19\n",
       "4        27\n",
       "         ..\n",
       "18063    20\n",
       "18064    22\n",
       "18065    19\n",
       "18066    17\n",
       "18067    16\n",
       "Name: duration, Length: 18068, dtype: int64"
      ]
     },
     "execution_count": 11,
     "metadata": {},
     "output_type": "execute_result"
    }
   ],
   "source": [
    "data_2['duration'] = np.ceil(data_2['duration']).astype('int')\n",
    "data_2['duration']"
   ]
  },
  {
   "cell_type": "code",
   "execution_count": 12,
   "id": "9c2ffc52",
   "metadata": {},
   "outputs": [
    {
     "data": {
      "text/plain": [
       "31"
      ]
     },
     "execution_count": 12,
     "metadata": {},
     "output_type": "execute_result"
    }
   ],
   "source": [
    "data_1.duplicated().sum()"
   ]
  },
  {
   "cell_type": "code",
   "execution_count": 13,
   "id": "eddf5659",
   "metadata": {},
   "outputs": [
    {
     "data": {
      "text/plain": [
       "0"
      ]
     },
     "execution_count": 13,
     "metadata": {},
     "output_type": "execute_result"
    }
   ],
   "source": [
    "data_1 = data_1.drop_duplicates()\n",
    "data_1.duplicated().sum()"
   ]
  },
  {
   "cell_type": "code",
   "execution_count": 14,
   "id": "6bfb0453",
   "metadata": {},
   "outputs": [
    {
     "data": {
      "text/plain": [
       "0"
      ]
     },
     "execution_count": 14,
     "metadata": {},
     "output_type": "execute_result"
    }
   ],
   "source": [
    "data_2.duplicated().sum()"
   ]
  },
  {
   "cell_type": "code",
   "execution_count": 15,
   "id": "7b620eba",
   "metadata": {},
   "outputs": [
    {
     "data": {
      "text/plain": [
       "0"
      ]
     },
     "execution_count": 15,
     "metadata": {},
     "output_type": "execute_result"
    }
   ],
   "source": [
    "data_3.duplicated().sum()"
   ]
  },
  {
   "cell_type": "code",
   "execution_count": 16,
   "id": "c93cac5d",
   "metadata": {},
   "outputs": [
    {
     "data": {
      "text/plain": [
       "user_id              0\n",
       "name                 0\n",
       "age                  0\n",
       "city                 0\n",
       "subscription_type    0\n",
       "dtype: int64"
      ]
     },
     "execution_count": 16,
     "metadata": {},
     "output_type": "execute_result"
    }
   ],
   "source": [
    "data_1.isna().sum()"
   ]
  },
  {
   "cell_type": "code",
   "execution_count": 17,
   "id": "d548d848",
   "metadata": {},
   "outputs": [
    {
     "data": {
      "text/plain": [
       "user_id     0\n",
       "distance    0\n",
       "duration    0\n",
       "date        0\n",
       "dtype: int64"
      ]
     },
     "execution_count": 17,
     "metadata": {},
     "output_type": "execute_result"
    }
   ],
   "source": [
    "data_2.isna().sum()"
   ]
  },
  {
   "cell_type": "code",
   "execution_count": 18,
   "id": "0d110acb",
   "metadata": {
    "scrolled": true
   },
   "outputs": [
    {
     "data": {
      "text/plain": [
       "subscription_type    0\n",
       "minute_price         0\n",
       "start_ride_price     0\n",
       "subscription_fee     0\n",
       "dtype: int64"
      ]
     },
     "execution_count": 18,
     "metadata": {},
     "output_type": "execute_result"
    }
   ],
   "source": [
    "data_3.isna().sum()"
   ]
  },
  {
   "cell_type": "code",
   "execution_count": 19,
   "id": "ef1631f4",
   "metadata": {},
   "outputs": [],
   "source": [
    "data_2['date'] = pd.to_datetime(data_2['date'], format='%Y-%m-%dT%H:%M:%S')"
   ]
  },
  {
   "cell_type": "code",
   "execution_count": 20,
   "id": "1d3b07d9",
   "metadata": {},
   "outputs": [
    {
     "data": {
      "text/html": [
       "<div>\n",
       "<style scoped>\n",
       "    .dataframe tbody tr th:only-of-type {\n",
       "        vertical-align: middle;\n",
       "    }\n",
       "\n",
       "    .dataframe tbody tr th {\n",
       "        vertical-align: top;\n",
       "    }\n",
       "\n",
       "    .dataframe thead th {\n",
       "        text-align: right;\n",
       "    }\n",
       "</style>\n",
       "<table border=\"1\" class=\"dataframe\">\n",
       "  <thead>\n",
       "    <tr style=\"text-align: right;\">\n",
       "      <th></th>\n",
       "      <th>user_id</th>\n",
       "      <th>distance</th>\n",
       "      <th>duration</th>\n",
       "      <th>date</th>\n",
       "      <th>month</th>\n",
       "    </tr>\n",
       "  </thead>\n",
       "  <tbody>\n",
       "    <tr>\n",
       "      <th>0</th>\n",
       "      <td>1</td>\n",
       "      <td>4409.919140</td>\n",
       "      <td>26</td>\n",
       "      <td>2021-01-01</td>\n",
       "      <td>1</td>\n",
       "    </tr>\n",
       "    <tr>\n",
       "      <th>1</th>\n",
       "      <td>1</td>\n",
       "      <td>2617.592153</td>\n",
       "      <td>16</td>\n",
       "      <td>2021-01-18</td>\n",
       "      <td>1</td>\n",
       "    </tr>\n",
       "    <tr>\n",
       "      <th>2</th>\n",
       "      <td>1</td>\n",
       "      <td>754.159807</td>\n",
       "      <td>7</td>\n",
       "      <td>2021-04-20</td>\n",
       "      <td>4</td>\n",
       "    </tr>\n",
       "    <tr>\n",
       "      <th>3</th>\n",
       "      <td>1</td>\n",
       "      <td>2694.783254</td>\n",
       "      <td>19</td>\n",
       "      <td>2021-08-11</td>\n",
       "      <td>8</td>\n",
       "    </tr>\n",
       "    <tr>\n",
       "      <th>4</th>\n",
       "      <td>1</td>\n",
       "      <td>4028.687306</td>\n",
       "      <td>27</td>\n",
       "      <td>2021-08-28</td>\n",
       "      <td>8</td>\n",
       "    </tr>\n",
       "    <tr>\n",
       "      <th>...</th>\n",
       "      <td>...</td>\n",
       "      <td>...</td>\n",
       "      <td>...</td>\n",
       "      <td>...</td>\n",
       "      <td>...</td>\n",
       "    </tr>\n",
       "    <tr>\n",
       "      <th>18063</th>\n",
       "      <td>1534</td>\n",
       "      <td>3781.098080</td>\n",
       "      <td>20</td>\n",
       "      <td>2021-11-04</td>\n",
       "      <td>11</td>\n",
       "    </tr>\n",
       "    <tr>\n",
       "      <th>18064</th>\n",
       "      <td>1534</td>\n",
       "      <td>2840.423057</td>\n",
       "      <td>22</td>\n",
       "      <td>2021-11-16</td>\n",
       "      <td>11</td>\n",
       "    </tr>\n",
       "    <tr>\n",
       "      <th>18065</th>\n",
       "      <td>1534</td>\n",
       "      <td>3826.185507</td>\n",
       "      <td>19</td>\n",
       "      <td>2021-11-18</td>\n",
       "      <td>11</td>\n",
       "    </tr>\n",
       "    <tr>\n",
       "      <th>18066</th>\n",
       "      <td>1534</td>\n",
       "      <td>2902.308661</td>\n",
       "      <td>17</td>\n",
       "      <td>2021-11-27</td>\n",
       "      <td>11</td>\n",
       "    </tr>\n",
       "    <tr>\n",
       "      <th>18067</th>\n",
       "      <td>1534</td>\n",
       "      <td>2371.711192</td>\n",
       "      <td>16</td>\n",
       "      <td>2021-12-29</td>\n",
       "      <td>12</td>\n",
       "    </tr>\n",
       "  </tbody>\n",
       "</table>\n",
       "<p>18068 rows × 5 columns</p>\n",
       "</div>"
      ],
      "text/plain": [
       "       user_id     distance  duration       date  month\n",
       "0            1  4409.919140        26 2021-01-01      1\n",
       "1            1  2617.592153        16 2021-01-18      1\n",
       "2            1   754.159807         7 2021-04-20      4\n",
       "3            1  2694.783254        19 2021-08-11      8\n",
       "4            1  4028.687306        27 2021-08-28      8\n",
       "...        ...          ...       ...        ...    ...\n",
       "18063     1534  3781.098080        20 2021-11-04     11\n",
       "18064     1534  2840.423057        22 2021-11-16     11\n",
       "18065     1534  3826.185507        19 2021-11-18     11\n",
       "18066     1534  2902.308661        17 2021-11-27     11\n",
       "18067     1534  2371.711192        16 2021-12-29     12\n",
       "\n",
       "[18068 rows x 5 columns]"
      ]
     },
     "execution_count": 20,
     "metadata": {},
     "output_type": "execute_result"
    }
   ],
   "source": [
    "data_2['month'] = data_2['date'].dt.month.astype('int32')\n",
    "data_2"
   ]
  },
  {
   "cell_type": "code",
   "execution_count": 21,
   "id": "0d7bb0c3",
   "metadata": {},
   "outputs": [
    {
     "data": {
      "text/html": [
       "<div>\n",
       "<style scoped>\n",
       "    .dataframe tbody tr th:only-of-type {\n",
       "        vertical-align: middle;\n",
       "    }\n",
       "\n",
       "    .dataframe tbody tr th {\n",
       "        vertical-align: top;\n",
       "    }\n",
       "\n",
       "    .dataframe thead th {\n",
       "        text-align: right;\n",
       "    }\n",
       "</style>\n",
       "<table border=\"1\" class=\"dataframe\">\n",
       "  <thead>\n",
       "    <tr style=\"text-align: right;\">\n",
       "      <th></th>\n",
       "      <th>user_id</th>\n",
       "      <th>distance</th>\n",
       "      <th>duration</th>\n",
       "      <th>date</th>\n",
       "      <th>month</th>\n",
       "    </tr>\n",
       "  </thead>\n",
       "  <tbody>\n",
       "    <tr>\n",
       "      <th>2576</th>\n",
       "      <td>272</td>\n",
       "      <td>4141.347535</td>\n",
       "      <td>29</td>\n",
       "      <td>2021-12-30</td>\n",
       "      <td>12</td>\n",
       "    </tr>\n",
       "    <tr>\n",
       "      <th>3278</th>\n",
       "      <td>353</td>\n",
       "      <td>1133.292906</td>\n",
       "      <td>16</td>\n",
       "      <td>2021-12-30</td>\n",
       "      <td>12</td>\n",
       "    </tr>\n",
       "    <tr>\n",
       "      <th>11752</th>\n",
       "      <td>1083</td>\n",
       "      <td>2952.365209</td>\n",
       "      <td>20</td>\n",
       "      <td>2021-12-30</td>\n",
       "      <td>12</td>\n",
       "    </tr>\n",
       "    <tr>\n",
       "      <th>15704</th>\n",
       "      <td>1369</td>\n",
       "      <td>2879.604810</td>\n",
       "      <td>19</td>\n",
       "      <td>2021-12-30</td>\n",
       "      <td>12</td>\n",
       "    </tr>\n",
       "    <tr>\n",
       "      <th>14115</th>\n",
       "      <td>1252</td>\n",
       "      <td>325.677862</td>\n",
       "      <td>10</td>\n",
       "      <td>2021-12-30</td>\n",
       "      <td>12</td>\n",
       "    </tr>\n",
       "    <tr>\n",
       "      <th>...</th>\n",
       "      <td>...</td>\n",
       "      <td>...</td>\n",
       "      <td>...</td>\n",
       "      <td>...</td>\n",
       "      <td>...</td>\n",
       "    </tr>\n",
       "    <tr>\n",
       "      <th>2754</th>\n",
       "      <td>294</td>\n",
       "      <td>3213.683882</td>\n",
       "      <td>24</td>\n",
       "      <td>2021-01-01</td>\n",
       "      <td>1</td>\n",
       "    </tr>\n",
       "    <tr>\n",
       "      <th>13591</th>\n",
       "      <td>1217</td>\n",
       "      <td>4756.419155</td>\n",
       "      <td>20</td>\n",
       "      <td>2021-01-01</td>\n",
       "      <td>1</td>\n",
       "    </tr>\n",
       "    <tr>\n",
       "      <th>2888</th>\n",
       "      <td>308</td>\n",
       "      <td>2560.959421</td>\n",
       "      <td>19</td>\n",
       "      <td>2021-01-01</td>\n",
       "      <td>1</td>\n",
       "    </tr>\n",
       "    <tr>\n",
       "      <th>13356</th>\n",
       "      <td>1202</td>\n",
       "      <td>2450.804058</td>\n",
       "      <td>18</td>\n",
       "      <td>2021-01-01</td>\n",
       "      <td>1</td>\n",
       "    </tr>\n",
       "    <tr>\n",
       "      <th>0</th>\n",
       "      <td>1</td>\n",
       "      <td>4409.919140</td>\n",
       "      <td>26</td>\n",
       "      <td>2021-01-01</td>\n",
       "      <td>1</td>\n",
       "    </tr>\n",
       "  </tbody>\n",
       "</table>\n",
       "<p>18068 rows × 5 columns</p>\n",
       "</div>"
      ],
      "text/plain": [
       "       user_id     distance  duration       date  month\n",
       "2576       272  4141.347535        29 2021-12-30     12\n",
       "3278       353  1133.292906        16 2021-12-30     12\n",
       "11752     1083  2952.365209        20 2021-12-30     12\n",
       "15704     1369  2879.604810        19 2021-12-30     12\n",
       "14115     1252   325.677862        10 2021-12-30     12\n",
       "...        ...          ...       ...        ...    ...\n",
       "2754       294  3213.683882        24 2021-01-01      1\n",
       "13591     1217  4756.419155        20 2021-01-01      1\n",
       "2888       308  2560.959421        19 2021-01-01      1\n",
       "13356     1202  2450.804058        18 2021-01-01      1\n",
       "0            1  4409.919140        26 2021-01-01      1\n",
       "\n",
       "[18068 rows x 5 columns]"
      ]
     },
     "execution_count": 21,
     "metadata": {},
     "output_type": "execute_result"
    }
   ],
   "source": [
    "data_2.sort_values(by='date', ascending=False)"
   ]
  },
  {
   "cell_type": "markdown",
   "id": "04dbe11b",
   "metadata": {},
   "source": [
    "Имеются данные по поездкам с 1 января 2021 по 30 декабря 2021"
   ]
  },
  {
   "cell_type": "markdown",
   "id": "f7ed3cf7",
   "metadata": {},
   "source": [
    "<font color='blue'>\n",
    "В первом датафрейме удалены явные дубликаты в количестве 31, в остальных датафреймах явных дубликатов не обнаружено.\n",
    "Пропущеные значения также не обнаружены.\n",
    "Добавлен новый столбец с месяцем поездки, дата переведена в удобный формат. </font>"
   ]
  },
  {
   "cell_type": "markdown",
   "id": "0f12673a",
   "metadata": {},
   "source": [
    "#### Шаг 3. Исследовательский анализ данных"
   ]
  },
  {
   "cell_type": "code",
   "execution_count": 22,
   "id": "08f5973f",
   "metadata": {},
   "outputs": [
    {
     "data": {
      "image/png": "[encoded data removed]",
      "text/plain": [
       "<Figure size 720x360 with 1 Axes>"
      ]
     },
     "metadata": {
      "needs_background": "light"
     },
     "output_type": "display_data"
    }
   ],
   "source": [
    "data_1.pivot_table(index='city', values='user_id', aggfunc='count').sort_values(by='user_id', ascending=True).plot(kind='barh', grid=True, figsize=(10, 5))\n",
    "\n",
    "plt.title('Количество пользователей по городам')\n",
    "plt.ylabel('Города')\n",
    "plt.xlabel('Количество пользователей')\n",
    "\n",
    "plt.show()\n"
   ]
  },
  {
   "cell_type": "code",
   "execution_count": 23,
   "id": "7459261c",
   "metadata": {
    "scrolled": true
   },
   "outputs": [
    {
     "data": {
      "text/plain": [
       "Пятигорск         219\n",
       "Екатеринбург      204\n",
       "Ростов-на-Дону    198\n",
       "Краснодар         193\n",
       "Сочи              189\n",
       "Омск              183\n",
       "Тюмень            180\n",
       "Москва            168\n",
       "Name: city, dtype: int64"
      ]
     },
     "execution_count": 23,
     "metadata": {},
     "output_type": "execute_result"
    }
   ],
   "source": [
    "data_1['city'].value_counts(ascending=False)"
   ]
  },
  {
   "cell_type": "markdown",
   "id": "b66a4bcd",
   "metadata": {},
   "source": [
    "Города расположены по убыванию числа пользователей, наибольшей популярностью сервис кикшеринга пользуется в Пятигорске, наименьшей-в Москве. "
   ]
  },
  {
   "cell_type": "code",
   "execution_count": 24,
   "id": "77653a6a",
   "metadata": {},
   "outputs": [
    {
     "data": {
      "image/png": "[encoded data removed]",
      "text/plain": [
       "<Figure size 720x720 with 1 Axes>"
      ]
     },
     "metadata": {},
     "output_type": "display_data"
    }
   ],
   "source": [
    "data_1.pivot_table(index='subscription_type', values='user_id', aggfunc='count').plot.pie(y='user_id', figsize=(10,10), startangle=45, autopct='%1.1f%%', label = '' ,  title='Отношение пользователей `free` - без подписки, `ultra` - с подпиской, к общему количеству')\n",
    "plt.axis('equal')\n",
    "plt.show()"
   ]
  },
  {
   "cell_type": "markdown",
   "id": "75a9d09c",
   "metadata": {},
   "source": [
    "Соотношение пользователей с бесплатной и платной подписками практически равно, однако первых немного больше"
   ]
  },
  {
   "cell_type": "code",
   "execution_count": 25,
   "id": "5d26f1be",
   "metadata": {},
   "outputs": [
    {
     "data": {
      "image/png": "[encoded data removed]",
      "text/plain": [
       "<Figure size 720x360 with 1 Axes>"
      ]
     },
     "metadata": {
      "needs_background": "light"
     },
     "output_type": "display_data"
    }
   ],
   "source": [
    "data_1.pivot_table(index='age', values='user_id', aggfunc='count').sort_values(by='age', ascending=True).plot(kind='bar' , grid=True, figsize=(10, 5))\n",
    "plt.title('Количество пользователей по возрастам')\n",
    "plt.xlabel('Возраст')\n",
    "plt.ylabel('Количество')\n",
    "plt.show()"
   ]
  },
  {
   "cell_type": "code",
   "execution_count": 26,
   "id": "5a8cb87b",
   "metadata": {},
   "outputs": [
    {
     "data": {
      "text/plain": [
       "count    1534.000000\n",
       "mean       24.903520\n",
       "std         4.572367\n",
       "min        12.000000\n",
       "25%        22.000000\n",
       "50%        25.000000\n",
       "75%        28.000000\n",
       "max        43.000000\n",
       "Name: age, dtype: float64"
      ]
     },
     "execution_count": 26,
     "metadata": {},
     "output_type": "execute_result"
    }
   ],
   "source": [
    "data_1['age'].describe()"
   ]
  },
  {
   "cell_type": "markdown",
   "id": "1d32a1ce",
   "metadata": {},
   "source": [
    "Визуализация распределения пользователей по возрасту показывает нормальное распределение с центром около 25 лет. Среднее значение и медиана практически совпадают, что указывает на симметричность распределения."
   ]
  },
  {
   "cell_type": "code",
   "execution_count": 27,
   "id": "af1cff51",
   "metadata": {},
   "outputs": [
    {
     "data": {
      "text/plain": [
       "count    18068.000000\n",
       "mean      3070.659976\n",
       "std       1116.831209\n",
       "min          0.855683\n",
       "25%       2543.226360\n",
       "50%       3133.609994\n",
       "75%       3776.222735\n",
       "max       7211.007745\n",
       "Name: distance, dtype: float64"
      ]
     },
     "execution_count": 27,
     "metadata": {},
     "output_type": "execute_result"
    }
   ],
   "source": [
    "data_2['distance'].describe()"
   ]
  },
  {
   "cell_type": "code",
   "execution_count": 28,
   "id": "c9e5c5e2",
   "metadata": {},
   "outputs": [
    {
     "data": {
      "image/png": "[encoded data removed]",
      "text/plain": [
       "<Figure size 432x288 with 1 Axes>"
      ]
     },
     "metadata": {
      "needs_background": "light"
     },
     "output_type": "display_data"
    }
   ],
   "source": [
    "plt.hist(data_2['distance'], bins=500, range=(1,7200))\n",
    "plt.title('Количество поездок в зависимости от расстояния поездки')\n",
    "plt.xlabel('Метры')\n",
    "plt.ylabel('Количество поездок')\n",
    "plt.show()"
   ]
  },
  {
   "cell_type": "markdown",
   "id": "0f7dd162",
   "metadata": {},
   "source": [
    "Визуализация распределения расстояний поездок демонстрирует схожесть с нормальным распределением, пик которого расположен несколько выше 3 км. \n",
    "\n",
    "Среднее значение и медиана практически совпадают, что подтверждает симметричность распределения. \n",
    "\n",
    "Медиана расположена на 3133 метрах, первый квартиль - на 2543 метрах, а третий квартиль - на 3776 метрах."
   ]
  },
  {
   "cell_type": "code",
   "execution_count": 29,
   "id": "99596a99",
   "metadata": {},
   "outputs": [
    {
     "data": {
      "text/plain": [
       "count    18068.000000\n",
       "mean        18.303520\n",
       "std          6.094928\n",
       "min          1.000000\n",
       "25%         14.000000\n",
       "50%         18.000000\n",
       "75%         22.000000\n",
       "max         41.000000\n",
       "Name: duration, dtype: float64"
      ]
     },
     "execution_count": 29,
     "metadata": {},
     "output_type": "execute_result"
    }
   ],
   "source": [
    "data_2['duration'].describe()"
   ]
  },
  {
   "cell_type": "code",
   "execution_count": 30,
   "id": "6f07c04b",
   "metadata": {
    "scrolled": true
   },
   "outputs": [
    {
     "data": {
      "image/png": "[encoded data removed]",
      "text/plain": [
       "<Figure size 432x288 with 1 Axes>"
      ]
     },
     "metadata": {
      "needs_background": "light"
     },
     "output_type": "display_data"
    }
   ],
   "source": [
    "plt.hist(data_2['duration'], bins=41, range=(1,42))\n",
    "plt.title('Количество поездок в зависимости от продолжительности')\n",
    "plt.xlabel('продолжительность поездки')\n",
    "plt.ylabel('Количество поездок')\n",
    "plt.show()"
   ]
  },
  {
   "cell_type": "markdown",
   "id": "fe373878",
   "metadata": {},
   "source": [
    "Медиана продолжительности поездки чуть меньше 18 минут, она почти равна среднему значению. График опять же напоминает график нормального распределения. До примерно 18 минут наблюдается увеличение количества поездок, после 18-снижение."
   ]
  },
  {
   "cell_type": "markdown",
   "id": "587dc49e",
   "metadata": {},
   "source": [
    "<font color='blue'>\n",
    "География:\n",
    "Южные города пользуются сервисом активнее всего, вероятно, благодаря более продолжительному сезону проката.\n",
    "Екатеринбург занимает второе место по популярности, что неожиданно, учитывая климат Урала.\n",
    "\n",
    "Типы пользователей:\n",
    "Пользователи без подписки (Free) составляют 54,4% от общего количества, что значительно больше, чем пользователей с подпиской Ultra (45,6%).\n",
    "\n",
    "Возраст пользователей:\n",
    "Средний возраст пользователей сервиса составляет около 25 лет, распределение по возрасту напоминает нормальное.\n",
    "\n",
    "Расстояния поездок:\n",
    "Медиана расстояния поездок составляет 3133 метра. \n",
    "Первый и третий квартили - 2543 и 3776 метров соответственно.\n",
    "Гистограмма показывает нормальное распределение, но с заметным вторым пиком около 700 метров, который, хотя и не входит в основное распределение, требует внимания.\n",
    "\n",
    "Продолжительность поездок:\n",
    "\n",
    "Медиана длительности - 18 минут, первый и третий квартили - 14 и 22 минуты.\n",
    "Гистограмма выявляет аномальные значения продолжительности поездок менее 1 минуты. \n",
    "\n",
    "</font>"
   ]
  },
  {
   "cell_type": "markdown",
   "id": "d9de0198",
   "metadata": {},
   "source": [
    "#### Шаг 4. Объединение данных"
   ]
  },
  {
   "cell_type": "code",
   "execution_count": 31,
   "id": "e8ffaed4",
   "metadata": {},
   "outputs": [
    {
     "data": {
      "text/html": [
       "<div>\n",
       "<style scoped>\n",
       "    .dataframe tbody tr th:only-of-type {\n",
       "        vertical-align: middle;\n",
       "    }\n",
       "\n",
       "    .dataframe tbody tr th {\n",
       "        vertical-align: top;\n",
       "    }\n",
       "\n",
       "    .dataframe thead th {\n",
       "        text-align: right;\n",
       "    }\n",
       "</style>\n",
       "<table border=\"1\" class=\"dataframe\">\n",
       "  <thead>\n",
       "    <tr style=\"text-align: right;\">\n",
       "      <th></th>\n",
       "      <th>user_id</th>\n",
       "      <th>distance</th>\n",
       "      <th>duration</th>\n",
       "      <th>date</th>\n",
       "      <th>month</th>\n",
       "      <th>name</th>\n",
       "      <th>age</th>\n",
       "      <th>city</th>\n",
       "      <th>subscription_type</th>\n",
       "      <th>minute_price</th>\n",
       "      <th>start_ride_price</th>\n",
       "      <th>subscription_fee</th>\n",
       "    </tr>\n",
       "  </thead>\n",
       "  <tbody>\n",
       "    <tr>\n",
       "      <th>0</th>\n",
       "      <td>1</td>\n",
       "      <td>4409.919140</td>\n",
       "      <td>26</td>\n",
       "      <td>2021-01-01</td>\n",
       "      <td>1</td>\n",
       "      <td>Кира</td>\n",
       "      <td>22</td>\n",
       "      <td>Тюмень</td>\n",
       "      <td>ultra</td>\n",
       "      <td>6</td>\n",
       "      <td>0</td>\n",
       "      <td>199</td>\n",
       "    </tr>\n",
       "    <tr>\n",
       "      <th>1</th>\n",
       "      <td>1</td>\n",
       "      <td>2617.592153</td>\n",
       "      <td>16</td>\n",
       "      <td>2021-01-18</td>\n",
       "      <td>1</td>\n",
       "      <td>Кира</td>\n",
       "      <td>22</td>\n",
       "      <td>Тюмень</td>\n",
       "      <td>ultra</td>\n",
       "      <td>6</td>\n",
       "      <td>0</td>\n",
       "      <td>199</td>\n",
       "    </tr>\n",
       "    <tr>\n",
       "      <th>2</th>\n",
       "      <td>1</td>\n",
       "      <td>754.159807</td>\n",
       "      <td>7</td>\n",
       "      <td>2021-04-20</td>\n",
       "      <td>4</td>\n",
       "      <td>Кира</td>\n",
       "      <td>22</td>\n",
       "      <td>Тюмень</td>\n",
       "      <td>ultra</td>\n",
       "      <td>6</td>\n",
       "      <td>0</td>\n",
       "      <td>199</td>\n",
       "    </tr>\n",
       "    <tr>\n",
       "      <th>3</th>\n",
       "      <td>1</td>\n",
       "      <td>2694.783254</td>\n",
       "      <td>19</td>\n",
       "      <td>2021-08-11</td>\n",
       "      <td>8</td>\n",
       "      <td>Кира</td>\n",
       "      <td>22</td>\n",
       "      <td>Тюмень</td>\n",
       "      <td>ultra</td>\n",
       "      <td>6</td>\n",
       "      <td>0</td>\n",
       "      <td>199</td>\n",
       "    </tr>\n",
       "    <tr>\n",
       "      <th>4</th>\n",
       "      <td>1</td>\n",
       "      <td>4028.687306</td>\n",
       "      <td>27</td>\n",
       "      <td>2021-08-28</td>\n",
       "      <td>8</td>\n",
       "      <td>Кира</td>\n",
       "      <td>22</td>\n",
       "      <td>Тюмень</td>\n",
       "      <td>ultra</td>\n",
       "      <td>6</td>\n",
       "      <td>0</td>\n",
       "      <td>199</td>\n",
       "    </tr>\n",
       "    <tr>\n",
       "      <th>...</th>\n",
       "      <td>...</td>\n",
       "      <td>...</td>\n",
       "      <td>...</td>\n",
       "      <td>...</td>\n",
       "      <td>...</td>\n",
       "      <td>...</td>\n",
       "      <td>...</td>\n",
       "      <td>...</td>\n",
       "      <td>...</td>\n",
       "      <td>...</td>\n",
       "      <td>...</td>\n",
       "      <td>...</td>\n",
       "    </tr>\n",
       "    <tr>\n",
       "      <th>18063</th>\n",
       "      <td>1534</td>\n",
       "      <td>3781.098080</td>\n",
       "      <td>20</td>\n",
       "      <td>2021-11-04</td>\n",
       "      <td>11</td>\n",
       "      <td>Альберт</td>\n",
       "      <td>25</td>\n",
       "      <td>Краснодар</td>\n",
       "      <td>free</td>\n",
       "      <td>8</td>\n",
       "      <td>50</td>\n",
       "      <td>0</td>\n",
       "    </tr>\n",
       "    <tr>\n",
       "      <th>18064</th>\n",
       "      <td>1534</td>\n",
       "      <td>2840.423057</td>\n",
       "      <td>22</td>\n",
       "      <td>2021-11-16</td>\n",
       "      <td>11</td>\n",
       "      <td>Альберт</td>\n",
       "      <td>25</td>\n",
       "      <td>Краснодар</td>\n",
       "      <td>free</td>\n",
       "      <td>8</td>\n",
       "      <td>50</td>\n",
       "      <td>0</td>\n",
       "    </tr>\n",
       "    <tr>\n",
       "      <th>18065</th>\n",
       "      <td>1534</td>\n",
       "      <td>3826.185507</td>\n",
       "      <td>19</td>\n",
       "      <td>2021-11-18</td>\n",
       "      <td>11</td>\n",
       "      <td>Альберт</td>\n",
       "      <td>25</td>\n",
       "      <td>Краснодар</td>\n",
       "      <td>free</td>\n",
       "      <td>8</td>\n",
       "      <td>50</td>\n",
       "      <td>0</td>\n",
       "    </tr>\n",
       "    <tr>\n",
       "      <th>18066</th>\n",
       "      <td>1534</td>\n",
       "      <td>2902.308661</td>\n",
       "      <td>17</td>\n",
       "      <td>2021-11-27</td>\n",
       "      <td>11</td>\n",
       "      <td>Альберт</td>\n",
       "      <td>25</td>\n",
       "      <td>Краснодар</td>\n",
       "      <td>free</td>\n",
       "      <td>8</td>\n",
       "      <td>50</td>\n",
       "      <td>0</td>\n",
       "    </tr>\n",
       "    <tr>\n",
       "      <th>18067</th>\n",
       "      <td>1534</td>\n",
       "      <td>2371.711192</td>\n",
       "      <td>16</td>\n",
       "      <td>2021-12-29</td>\n",
       "      <td>12</td>\n",
       "      <td>Альберт</td>\n",
       "      <td>25</td>\n",
       "      <td>Краснодар</td>\n",
       "      <td>free</td>\n",
       "      <td>8</td>\n",
       "      <td>50</td>\n",
       "      <td>0</td>\n",
       "    </tr>\n",
       "  </tbody>\n",
       "</table>\n",
       "<p>18068 rows × 12 columns</p>\n",
       "</div>"
      ],
      "text/plain": [
       "       user_id     distance  duration       date  month     name  age  \\\n",
       "0            1  4409.919140        26 2021-01-01      1     Кира   22   \n",
       "1            1  2617.592153        16 2021-01-18      1     Кира   22   \n",
       "2            1   754.159807         7 2021-04-20      4     Кира   22   \n",
       "3            1  2694.783254        19 2021-08-11      8     Кира   22   \n",
       "4            1  4028.687306        27 2021-08-28      8     Кира   22   \n",
       "...        ...          ...       ...        ...    ...      ...  ...   \n",
       "18063     1534  3781.098080        20 2021-11-04     11  Альберт   25   \n",
       "18064     1534  2840.423057        22 2021-11-16     11  Альберт   25   \n",
       "18065     1534  3826.185507        19 2021-11-18     11  Альберт   25   \n",
       "18066     1534  2902.308661        17 2021-11-27     11  Альберт   25   \n",
       "18067     1534  2371.711192        16 2021-12-29     12  Альберт   25   \n",
       "\n",
       "            city subscription_type  minute_price  start_ride_price  \\\n",
       "0         Тюмень             ultra             6                 0   \n",
       "1         Тюмень             ultra             6                 0   \n",
       "2         Тюмень             ultra             6                 0   \n",
       "3         Тюмень             ultra             6                 0   \n",
       "4         Тюмень             ultra             6                 0   \n",
       "...          ...               ...           ...               ...   \n",
       "18063  Краснодар              free             8                50   \n",
       "18064  Краснодар              free             8                50   \n",
       "18065  Краснодар              free             8                50   \n",
       "18066  Краснодар              free             8                50   \n",
       "18067  Краснодар              free             8                50   \n",
       "\n",
       "       subscription_fee  \n",
       "0                   199  \n",
       "1                   199  \n",
       "2                   199  \n",
       "3                   199  \n",
       "4                   199  \n",
       "...                 ...  \n",
       "18063                 0  \n",
       "18064                 0  \n",
       "18065                 0  \n",
       "18066                 0  \n",
       "18067                 0  \n",
       "\n",
       "[18068 rows x 12 columns]"
      ]
     },
     "execution_count": 31,
     "metadata": {},
     "output_type": "execute_result"
    }
   ],
   "source": [
    "df = pd.merge(data_1, data_3, on='subscription_type')\n",
    "df = pd.merge(data_2, df, on='user_id')\n",
    "df"
   ]
  },
  {
   "cell_type": "code",
   "execution_count": 32,
   "id": "62ed99d1",
   "metadata": {},
   "outputs": [
    {
     "name": "stdout",
     "output_type": "stream",
     "text": [
      "<class 'pandas.core.frame.DataFrame'>\n",
      "Int64Index: 18068 entries, 0 to 18067\n",
      "Data columns (total 12 columns):\n",
      " #   Column             Non-Null Count  Dtype         \n",
      "---  ------             --------------  -----         \n",
      " 0   user_id            18068 non-null  int64         \n",
      " 1   distance           18068 non-null  float64       \n",
      " 2   duration           18068 non-null  int64         \n",
      " 3   date               18068 non-null  datetime64[ns]\n",
      " 4   month              18068 non-null  int32         \n",
      " 5   name               18068 non-null  object        \n",
      " 6   age                18068 non-null  int64         \n",
      " 7   city               18068 non-null  object        \n",
      " 8   subscription_type  18068 non-null  object        \n",
      " 9   minute_price       18068 non-null  int64         \n",
      " 10  start_ride_price   18068 non-null  int64         \n",
      " 11  subscription_fee   18068 non-null  int64         \n",
      "dtypes: datetime64[ns](1), float64(1), int32(1), int64(6), object(3)\n",
      "memory usage: 1.7+ MB\n"
     ]
    }
   ],
   "source": [
    "df.info()"
   ]
  },
  {
   "cell_type": "code",
   "execution_count": 33,
   "id": "9d43e74a",
   "metadata": {},
   "outputs": [],
   "source": [
    "ultra = df[df['subscription_type'] == 'ultra']"
   ]
  },
  {
   "cell_type": "code",
   "execution_count": 34,
   "id": "3c9c76e6",
   "metadata": {},
   "outputs": [],
   "source": [
    "free = df[df['subscription_type'] == 'free']"
   ]
  },
  {
   "cell_type": "code",
   "execution_count": 35,
   "id": "dc1755ac",
   "metadata": {},
   "outputs": [
    {
     "data": {
      "text/html": [
       "<div>\n",
       "<style scoped>\n",
       "    .dataframe tbody tr th:only-of-type {\n",
       "        vertical-align: middle;\n",
       "    }\n",
       "\n",
       "    .dataframe tbody tr th {\n",
       "        vertical-align: top;\n",
       "    }\n",
       "\n",
       "    .dataframe thead th {\n",
       "        text-align: right;\n",
       "    }\n",
       "</style>\n",
       "<table border=\"1\" class=\"dataframe\">\n",
       "  <thead>\n",
       "    <tr style=\"text-align: right;\">\n",
       "      <th></th>\n",
       "      <th>user_id</th>\n",
       "      <th>distance</th>\n",
       "      <th>duration</th>\n",
       "      <th>month</th>\n",
       "      <th>age</th>\n",
       "      <th>minute_price</th>\n",
       "      <th>start_ride_price</th>\n",
       "      <th>subscription_fee</th>\n",
       "    </tr>\n",
       "  </thead>\n",
       "  <tbody>\n",
       "    <tr>\n",
       "      <th>count</th>\n",
       "      <td>6500.000000</td>\n",
       "      <td>6500.000000</td>\n",
       "      <td>6500.000000</td>\n",
       "      <td>6500.000000</td>\n",
       "      <td>6500.000000</td>\n",
       "      <td>6500.0</td>\n",
       "      <td>6500.0</td>\n",
       "      <td>6500.0</td>\n",
       "    </tr>\n",
       "    <tr>\n",
       "      <th>mean</th>\n",
       "      <td>348.725385</td>\n",
       "      <td>3115.445388</td>\n",
       "      <td>19.037692</td>\n",
       "      <td>6.422308</td>\n",
       "      <td>24.892615</td>\n",
       "      <td>6.0</td>\n",
       "      <td>0.0</td>\n",
       "      <td>199.0</td>\n",
       "    </tr>\n",
       "    <tr>\n",
       "      <th>std</th>\n",
       "      <td>201.099339</td>\n",
       "      <td>836.895330</td>\n",
       "      <td>5.577439</td>\n",
       "      <td>3.414616</td>\n",
       "      <td>4.757208</td>\n",
       "      <td>0.0</td>\n",
       "      <td>0.0</td>\n",
       "      <td>0.0</td>\n",
       "    </tr>\n",
       "    <tr>\n",
       "      <th>min</th>\n",
       "      <td>1.000000</td>\n",
       "      <td>244.210438</td>\n",
       "      <td>4.000000</td>\n",
       "      <td>1.000000</td>\n",
       "      <td>12.000000</td>\n",
       "      <td>6.0</td>\n",
       "      <td>0.0</td>\n",
       "      <td>199.0</td>\n",
       "    </tr>\n",
       "    <tr>\n",
       "      <th>25%</th>\n",
       "      <td>175.000000</td>\n",
       "      <td>2785.444017</td>\n",
       "      <td>15.000000</td>\n",
       "      <td>4.000000</td>\n",
       "      <td>22.000000</td>\n",
       "      <td>6.0</td>\n",
       "      <td>0.0</td>\n",
       "      <td>199.0</td>\n",
       "    </tr>\n",
       "    <tr>\n",
       "      <th>50%</th>\n",
       "      <td>351.000000</td>\n",
       "      <td>3148.637229</td>\n",
       "      <td>19.000000</td>\n",
       "      <td>6.000000</td>\n",
       "      <td>25.000000</td>\n",
       "      <td>6.0</td>\n",
       "      <td>0.0</td>\n",
       "      <td>199.0</td>\n",
       "    </tr>\n",
       "    <tr>\n",
       "      <th>75%</th>\n",
       "      <td>525.000000</td>\n",
       "      <td>3560.574425</td>\n",
       "      <td>22.000000</td>\n",
       "      <td>9.000000</td>\n",
       "      <td>28.000000</td>\n",
       "      <td>6.0</td>\n",
       "      <td>0.0</td>\n",
       "      <td>199.0</td>\n",
       "    </tr>\n",
       "    <tr>\n",
       "      <th>max</th>\n",
       "      <td>699.000000</td>\n",
       "      <td>5699.769662</td>\n",
       "      <td>41.000000</td>\n",
       "      <td>12.000000</td>\n",
       "      <td>38.000000</td>\n",
       "      <td>6.0</td>\n",
       "      <td>0.0</td>\n",
       "      <td>199.0</td>\n",
       "    </tr>\n",
       "  </tbody>\n",
       "</table>\n",
       "</div>"
      ],
      "text/plain": [
       "           user_id     distance     duration        month          age  \\\n",
       "count  6500.000000  6500.000000  6500.000000  6500.000000  6500.000000   \n",
       "mean    348.725385  3115.445388    19.037692     6.422308    24.892615   \n",
       "std     201.099339   836.895330     5.577439     3.414616     4.757208   \n",
       "min       1.000000   244.210438     4.000000     1.000000    12.000000   \n",
       "25%     175.000000  2785.444017    15.000000     4.000000    22.000000   \n",
       "50%     351.000000  3148.637229    19.000000     6.000000    25.000000   \n",
       "75%     525.000000  3560.574425    22.000000     9.000000    28.000000   \n",
       "max     699.000000  5699.769662    41.000000    12.000000    38.000000   \n",
       "\n",
       "       minute_price  start_ride_price  subscription_fee  \n",
       "count        6500.0            6500.0            6500.0  \n",
       "mean            6.0               0.0             199.0  \n",
       "std             0.0               0.0               0.0  \n",
       "min             6.0               0.0             199.0  \n",
       "25%             6.0               0.0             199.0  \n",
       "50%             6.0               0.0             199.0  \n",
       "75%             6.0               0.0             199.0  \n",
       "max             6.0               0.0             199.0  "
      ]
     },
     "execution_count": 35,
     "metadata": {},
     "output_type": "execute_result"
    }
   ],
   "source": [
    "ultra.describe()"
   ]
  },
  {
   "cell_type": "code",
   "execution_count": 36,
   "id": "dd9668d7",
   "metadata": {},
   "outputs": [
    {
     "data": {
      "text/html": [
       "<div>\n",
       "<style scoped>\n",
       "    .dataframe tbody tr th:only-of-type {\n",
       "        vertical-align: middle;\n",
       "    }\n",
       "\n",
       "    .dataframe tbody tr th {\n",
       "        vertical-align: top;\n",
       "    }\n",
       "\n",
       "    .dataframe thead th {\n",
       "        text-align: right;\n",
       "    }\n",
       "</style>\n",
       "<table border=\"1\" class=\"dataframe\">\n",
       "  <thead>\n",
       "    <tr style=\"text-align: right;\">\n",
       "      <th></th>\n",
       "      <th>user_id</th>\n",
       "      <th>distance</th>\n",
       "      <th>duration</th>\n",
       "      <th>month</th>\n",
       "      <th>age</th>\n",
       "      <th>minute_price</th>\n",
       "      <th>start_ride_price</th>\n",
       "      <th>subscription_fee</th>\n",
       "    </tr>\n",
       "  </thead>\n",
       "  <tbody>\n",
       "    <tr>\n",
       "      <th>count</th>\n",
       "      <td>11568.000000</td>\n",
       "      <td>11568.000000</td>\n",
       "      <td>11568.000000</td>\n",
       "      <td>11568.000000</td>\n",
       "      <td>11568.000000</td>\n",
       "      <td>11568.0</td>\n",
       "      <td>11568.0</td>\n",
       "      <td>11568.0</td>\n",
       "    </tr>\n",
       "    <tr>\n",
       "      <th>mean</th>\n",
       "      <td>1120.527230</td>\n",
       "      <td>3045.495282</td>\n",
       "      <td>17.890992</td>\n",
       "      <td>6.522994</td>\n",
       "      <td>24.893326</td>\n",
       "      <td>8.0</td>\n",
       "      <td>50.0</td>\n",
       "      <td>0.0</td>\n",
       "    </tr>\n",
       "    <tr>\n",
       "      <th>std</th>\n",
       "      <td>241.165628</td>\n",
       "      <td>1246.173806</td>\n",
       "      <td>6.330250</td>\n",
       "      <td>3.449770</td>\n",
       "      <td>4.481100</td>\n",
       "      <td>0.0</td>\n",
       "      <td>0.0</td>\n",
       "      <td>0.0</td>\n",
       "    </tr>\n",
       "    <tr>\n",
       "      <th>min</th>\n",
       "      <td>700.000000</td>\n",
       "      <td>0.855683</td>\n",
       "      <td>1.000000</td>\n",
       "      <td>1.000000</td>\n",
       "      <td>12.000000</td>\n",
       "      <td>8.0</td>\n",
       "      <td>50.0</td>\n",
       "      <td>0.0</td>\n",
       "    </tr>\n",
       "    <tr>\n",
       "      <th>25%</th>\n",
       "      <td>915.000000</td>\n",
       "      <td>2366.562689</td>\n",
       "      <td>13.000000</td>\n",
       "      <td>4.000000</td>\n",
       "      <td>22.000000</td>\n",
       "      <td>8.0</td>\n",
       "      <td>50.0</td>\n",
       "      <td>0.0</td>\n",
       "    </tr>\n",
       "    <tr>\n",
       "      <th>50%</th>\n",
       "      <td>1123.000000</td>\n",
       "      <td>3114.648465</td>\n",
       "      <td>18.000000</td>\n",
       "      <td>7.000000</td>\n",
       "      <td>25.000000</td>\n",
       "      <td>8.0</td>\n",
       "      <td>50.0</td>\n",
       "      <td>0.0</td>\n",
       "    </tr>\n",
       "    <tr>\n",
       "      <th>75%</th>\n",
       "      <td>1328.000000</td>\n",
       "      <td>3905.697894</td>\n",
       "      <td>22.000000</td>\n",
       "      <td>9.000000</td>\n",
       "      <td>28.000000</td>\n",
       "      <td>8.0</td>\n",
       "      <td>50.0</td>\n",
       "      <td>0.0</td>\n",
       "    </tr>\n",
       "    <tr>\n",
       "      <th>max</th>\n",
       "      <td>1534.000000</td>\n",
       "      <td>7211.007745</td>\n",
       "      <td>35.000000</td>\n",
       "      <td>12.000000</td>\n",
       "      <td>43.000000</td>\n",
       "      <td>8.0</td>\n",
       "      <td>50.0</td>\n",
       "      <td>0.0</td>\n",
       "    </tr>\n",
       "  </tbody>\n",
       "</table>\n",
       "</div>"
      ],
      "text/plain": [
       "            user_id      distance      duration         month           age  \\\n",
       "count  11568.000000  11568.000000  11568.000000  11568.000000  11568.000000   \n",
       "mean    1120.527230   3045.495282     17.890992      6.522994     24.893326   \n",
       "std      241.165628   1246.173806      6.330250      3.449770      4.481100   \n",
       "min      700.000000      0.855683      1.000000      1.000000     12.000000   \n",
       "25%      915.000000   2366.562689     13.000000      4.000000     22.000000   \n",
       "50%     1123.000000   3114.648465     18.000000      7.000000     25.000000   \n",
       "75%     1328.000000   3905.697894     22.000000      9.000000     28.000000   \n",
       "max     1534.000000   7211.007745     35.000000     12.000000     43.000000   \n",
       "\n",
       "       minute_price  start_ride_price  subscription_fee  \n",
       "count       11568.0           11568.0           11568.0  \n",
       "mean            8.0              50.0               0.0  \n",
       "std             0.0               0.0               0.0  \n",
       "min             8.0              50.0               0.0  \n",
       "25%             8.0              50.0               0.0  \n",
       "50%             8.0              50.0               0.0  \n",
       "75%             8.0              50.0               0.0  \n",
       "max             8.0              50.0               0.0  "
      ]
     },
     "execution_count": 36,
     "metadata": {},
     "output_type": "execute_result"
    }
   ],
   "source": [
    "free.describe()"
   ]
  },
  {
   "cell_type": "code",
   "execution_count": 37,
   "id": "fd0b0bfe",
   "metadata": {},
   "outputs": [
    {
     "data": {
      "image/png": "[encoded data removed]",
      "text/plain": [
       "<Figure size 432x288 with 1 Axes>"
      ]
     },
     "metadata": {
      "needs_background": "light"
     },
     "output_type": "display_data"
    }
   ],
   "source": [
    "plt.hist([free['distance'], ultra['distance']], bins=50, range=(1,5600), label=['free', 'ultra'])\n",
    "plt.legend(loc='upper right')\n",
    "plt.title('Количество поездок в зависимости расстояния поездки')\n",
    "plt.xlabel('Расстояние в метрах')\n",
    "plt.ylabel('Количество поездок')\n",
    "plt.show()"
   ]
  },
  {
   "cell_type": "code",
   "execution_count": 38,
   "id": "d44903be",
   "metadata": {},
   "outputs": [
    {
     "data": {
      "image/png": "[encoded data removed]",
      "text/plain": [
       "<Figure size 432x288 with 1 Axes>"
      ]
     },
     "metadata": {
      "needs_background": "light"
     },
     "output_type": "display_data"
    }
   ],
   "source": [
    "plt.hist([free['duration'], ultra['duration']], bins=30, range=(1,30), label=['free', 'ultra'])\n",
    "plt.legend(loc='upper right')\n",
    "plt.title('Количество поездок в зависимости от продолжительности')\n",
    "plt.xlabel('продолжительность поездки')\n",
    "plt.ylabel('Количество поездок')\n",
    "plt.show()"
   ]
  },
  {
   "cell_type": "markdown",
   "id": "c187d80c",
   "metadata": {},
   "source": [
    "Пользователи с подпиской делают более длительные поездки, в то время как пользователи без подписки делают более длинные по расстоянию поездки.\n",
    "Очевидно увеличение количества пользователей прямо пропорционально с увеличением времени и расстояния.\n",
    "Наблюдаются аномалии в датасете с бесплатными подписками. Уберем эти выбросы, хоть это можно было сделать и раньше. "
   ]
  },
  {
   "cell_type": "markdown",
   "id": "3eeb39df",
   "metadata": {},
   "source": [
    "<font color='blue'>\n",
    "Анализ данных о поездках пользователей GoFast, разделенных по типу подписки (free и ultra), показал влияние подписки на некоторые ключевые показатели:\n",
    "\n",
    "Расстояние поездок:\n",
    "\n",
    "Медиана: пользователи с подпиской ultra совершают поездки на чуть большее среднее расстояние (3148.64 метра), чем пользователи free (3114.65 метра).\n",
    "Разброс: поездки пользователей с подпиской ultra демонстрируют меньший разброс по расстоянию, чем поездки пользователей free (стандартное отклонение: 836.89 vs 1246.17). \n",
    "Пик распределения: дополнительный пик на графике распределения расстояний у пользователей free находится в районе 500 метров, в то время как у пользователей ultra он смещен к 1000 метрам. \n",
    "\n",
    "Время поездок:\n",
    "\n",
    "Медиана: пользователи с подпиской ultra в среднем проводят больше времени в поездках (19 минут), чем пользователи free (18 минут). \n",
    "Разброс: время поездок пользователей с подпиской ultra отличается меньшим разбросом (стандартное отклонение: 5.57), чем время поездок пользователей free (6.33).\n",
    "\n",
    "Вывод:\n",
    "\n",
    "Подписка Ultra оказывает влияние на расстояние и время поездок. Пользователи с подпиской отличаются более продолжительными поездками на чуть большее расстояние, при этом их поездки характеризуются меньшим разбросом по времени и расстоянию.\n",
    "</font>"
   ]
  },
  {
   "cell_type": "markdown",
   "id": "57c45748",
   "metadata": {},
   "source": [
    "#### Шаг 5. Подсчёт выручки"
   ]
  },
  {
   "cell_type": "code",
   "execution_count": 40,
   "id": "a2a965f2",
   "metadata": {
    "scrolled": true
   },
   "outputs": [
    {
     "data": {
      "text/html": [
       "<div>\n",
       "<style scoped>\n",
       "    .dataframe tbody tr th:only-of-type {\n",
       "        vertical-align: middle;\n",
       "    }\n",
       "\n",
       "    .dataframe tbody tr th {\n",
       "        vertical-align: top;\n",
       "    }\n",
       "\n",
       "    .dataframe thead th {\n",
       "        text-align: right;\n",
       "    }\n",
       "</style>\n",
       "<table border=\"1\" class=\"dataframe\">\n",
       "  <thead>\n",
       "    <tr style=\"text-align: right;\">\n",
       "      <th></th>\n",
       "      <th></th>\n",
       "      <th>city</th>\n",
       "      <th>date</th>\n",
       "      <th>distance</th>\n",
       "      <th>duration</th>\n",
       "      <th>minute_price</th>\n",
       "      <th>start_ride_price</th>\n",
       "      <th>subscription_fee</th>\n",
       "      <th>subscription_type</th>\n",
       "    </tr>\n",
       "    <tr>\n",
       "      <th>user_id</th>\n",
       "      <th>month</th>\n",
       "      <th></th>\n",
       "      <th></th>\n",
       "      <th></th>\n",
       "      <th></th>\n",
       "      <th></th>\n",
       "      <th></th>\n",
       "      <th></th>\n",
       "      <th></th>\n",
       "    </tr>\n",
       "  </thead>\n",
       "  <tbody>\n",
       "    <tr>\n",
       "      <th rowspan=\"6\" valign=\"top\">1</th>\n",
       "      <th>1</th>\n",
       "      <td>Тюмень</td>\n",
       "      <td>2</td>\n",
       "      <td>7027.511294</td>\n",
       "      <td>42</td>\n",
       "      <td>6</td>\n",
       "      <td>0</td>\n",
       "      <td>199</td>\n",
       "      <td>ultra</td>\n",
       "    </tr>\n",
       "    <tr>\n",
       "      <th>4</th>\n",
       "      <td>Тюмень</td>\n",
       "      <td>1</td>\n",
       "      <td>754.159807</td>\n",
       "      <td>7</td>\n",
       "      <td>6</td>\n",
       "      <td>0</td>\n",
       "      <td>199</td>\n",
       "      <td>ultra</td>\n",
       "    </tr>\n",
       "    <tr>\n",
       "      <th>8</th>\n",
       "      <td>Тюмень</td>\n",
       "      <td>2</td>\n",
       "      <td>6723.470560</td>\n",
       "      <td>46</td>\n",
       "      <td>6</td>\n",
       "      <td>0</td>\n",
       "      <td>199</td>\n",
       "      <td>ultra</td>\n",
       "    </tr>\n",
       "    <tr>\n",
       "      <th>10</th>\n",
       "      <td>Тюмень</td>\n",
       "      <td>2</td>\n",
       "      <td>5809.911100</td>\n",
       "      <td>32</td>\n",
       "      <td>6</td>\n",
       "      <td>0</td>\n",
       "      <td>199</td>\n",
       "      <td>ultra</td>\n",
       "    </tr>\n",
       "    <tr>\n",
       "      <th>11</th>\n",
       "      <td>Тюмень</td>\n",
       "      <td>3</td>\n",
       "      <td>7003.499363</td>\n",
       "      <td>56</td>\n",
       "      <td>6</td>\n",
       "      <td>0</td>\n",
       "      <td>199</td>\n",
       "      <td>ultra</td>\n",
       "    </tr>\n",
       "    <tr>\n",
       "      <th>12</th>\n",
       "      <td>Тюмень</td>\n",
       "      <td>2</td>\n",
       "      <td>6751.629942</td>\n",
       "      <td>28</td>\n",
       "      <td>6</td>\n",
       "      <td>0</td>\n",
       "      <td>199</td>\n",
       "      <td>ultra</td>\n",
       "    </tr>\n",
       "    <tr>\n",
       "      <th rowspan=\"7\" valign=\"top\">2</th>\n",
       "      <th>3</th>\n",
       "      <td>Омск</td>\n",
       "      <td>3</td>\n",
       "      <td>10187.723006</td>\n",
       "      <td>63</td>\n",
       "      <td>6</td>\n",
       "      <td>0</td>\n",
       "      <td>199</td>\n",
       "      <td>ultra</td>\n",
       "    </tr>\n",
       "    <tr>\n",
       "      <th>4</th>\n",
       "      <td>Омск</td>\n",
       "      <td>2</td>\n",
       "      <td>6164.381824</td>\n",
       "      <td>40</td>\n",
       "      <td>6</td>\n",
       "      <td>0</td>\n",
       "      <td>199</td>\n",
       "      <td>ultra</td>\n",
       "    </tr>\n",
       "    <tr>\n",
       "      <th>6</th>\n",
       "      <td>Омск</td>\n",
       "      <td>1</td>\n",
       "      <td>3255.338202</td>\n",
       "      <td>14</td>\n",
       "      <td>6</td>\n",
       "      <td>0</td>\n",
       "      <td>199</td>\n",
       "      <td>ultra</td>\n",
       "    </tr>\n",
       "    <tr>\n",
       "      <th>7</th>\n",
       "      <td>Омск</td>\n",
       "      <td>2</td>\n",
       "      <td>6780.722964</td>\n",
       "      <td>48</td>\n",
       "      <td>6</td>\n",
       "      <td>0</td>\n",
       "      <td>199</td>\n",
       "      <td>ultra</td>\n",
       "    </tr>\n",
       "    <tr>\n",
       "      <th>8</th>\n",
       "      <td>Омск</td>\n",
       "      <td>1</td>\n",
       "      <td>923.007439</td>\n",
       "      <td>7</td>\n",
       "      <td>6</td>\n",
       "      <td>0</td>\n",
       "      <td>199</td>\n",
       "      <td>ultra</td>\n",
       "    </tr>\n",
       "    <tr>\n",
       "      <th>10</th>\n",
       "      <td>Омск</td>\n",
       "      <td>1</td>\n",
       "      <td>2824.636598</td>\n",
       "      <td>19</td>\n",
       "      <td>6</td>\n",
       "      <td>0</td>\n",
       "      <td>199</td>\n",
       "      <td>ultra</td>\n",
       "    </tr>\n",
       "    <tr>\n",
       "      <th>12</th>\n",
       "      <td>Омск</td>\n",
       "      <td>1</td>\n",
       "      <td>3828.248580</td>\n",
       "      <td>12</td>\n",
       "      <td>6</td>\n",
       "      <td>0</td>\n",
       "      <td>199</td>\n",
       "      <td>ultra</td>\n",
       "    </tr>\n",
       "    <tr>\n",
       "      <th rowspan=\"2\" valign=\"top\">3</th>\n",
       "      <th>1</th>\n",
       "      <td>Москва</td>\n",
       "      <td>1</td>\n",
       "      <td>3061.777147</td>\n",
       "      <td>13</td>\n",
       "      <td>6</td>\n",
       "      <td>0</td>\n",
       "      <td>199</td>\n",
       "      <td>ultra</td>\n",
       "    </tr>\n",
       "    <tr>\n",
       "      <th>2</th>\n",
       "      <td>Москва</td>\n",
       "      <td>2</td>\n",
       "      <td>5421.152016</td>\n",
       "      <td>39</td>\n",
       "      <td>6</td>\n",
       "      <td>0</td>\n",
       "      <td>199</td>\n",
       "      <td>ultra</td>\n",
       "    </tr>\n",
       "  </tbody>\n",
       "</table>\n",
       "</div>"
      ],
      "text/plain": [
       "                 city  date      distance  duration  minute_price  \\\n",
       "user_id month                                                       \n",
       "1       1      Тюмень     2   7027.511294        42             6   \n",
       "        4      Тюмень     1    754.159807         7             6   \n",
       "        8      Тюмень     2   6723.470560        46             6   \n",
       "        10     Тюмень     2   5809.911100        32             6   \n",
       "        11     Тюмень     3   7003.499363        56             6   \n",
       "        12     Тюмень     2   6751.629942        28             6   \n",
       "2       3        Омск     3  10187.723006        63             6   \n",
       "        4        Омск     2   6164.381824        40             6   \n",
       "        6        Омск     1   3255.338202        14             6   \n",
       "        7        Омск     2   6780.722964        48             6   \n",
       "        8        Омск     1    923.007439         7             6   \n",
       "        10       Омск     1   2824.636598        19             6   \n",
       "        12       Омск     1   3828.248580        12             6   \n",
       "3       1      Москва     1   3061.777147        13             6   \n",
       "        2      Москва     2   5421.152016        39             6   \n",
       "\n",
       "               start_ride_price  subscription_fee subscription_type  \n",
       "user_id month                                                        \n",
       "1       1                     0               199             ultra  \n",
       "        4                     0               199             ultra  \n",
       "        8                     0               199             ultra  \n",
       "        10                    0               199             ultra  \n",
       "        11                    0               199             ultra  \n",
       "        12                    0               199             ultra  \n",
       "2       3                     0               199             ultra  \n",
       "        4                     0               199             ultra  \n",
       "        6                     0               199             ultra  \n",
       "        7                     0               199             ultra  \n",
       "        8                     0               199             ultra  \n",
       "        10                    0               199             ultra  \n",
       "        12                    0               199             ultra  \n",
       "3       1                     0               199             ultra  \n",
       "        2                     0               199             ultra  "
      ]
     },
     "execution_count": 40,
     "metadata": {},
     "output_type": "execute_result"
    }
   ],
   "source": [
    "df_total = (df.pivot_table(index=['user_id','month'], values=['city', 'subscription_type', 'distance', 'duration', 'date','minute_price', 'start_ride_price', 'subscription_fee'],\n",
    "aggfunc={'city': 'first','subscription_type': 'first','distance': 'sum', 'duration': 'sum','date': 'count','minute_price': 'first','start_ride_price': 'first','start_ride_price': 'first','subscription_fee': 'first'}, fill_value=0))\n",
    "df_total.head(15)\n"
   ]
  },
  {
   "cell_type": "code",
   "execution_count": 41,
   "id": "4cecef5e",
   "metadata": {},
   "outputs": [
    {
     "data": {
      "text/html": [
       "<div>\n",
       "<style scoped>\n",
       "    .dataframe tbody tr th:only-of-type {\n",
       "        vertical-align: middle;\n",
       "    }\n",
       "\n",
       "    .dataframe tbody tr th {\n",
       "        vertical-align: top;\n",
       "    }\n",
       "\n",
       "    .dataframe thead th {\n",
       "        text-align: right;\n",
       "    }\n",
       "</style>\n",
       "<table border=\"1\" class=\"dataframe\">\n",
       "  <thead>\n",
       "    <tr style=\"text-align: right;\">\n",
       "      <th></th>\n",
       "      <th></th>\n",
       "      <th>city</th>\n",
       "      <th>date</th>\n",
       "      <th>distance</th>\n",
       "      <th>duration</th>\n",
       "      <th>minute_price</th>\n",
       "      <th>start_ride_price</th>\n",
       "      <th>subscription_fee</th>\n",
       "      <th>subscription_type</th>\n",
       "      <th>month_income</th>\n",
       "    </tr>\n",
       "    <tr>\n",
       "      <th>user_id</th>\n",
       "      <th>month</th>\n",
       "      <th></th>\n",
       "      <th></th>\n",
       "      <th></th>\n",
       "      <th></th>\n",
       "      <th></th>\n",
       "      <th></th>\n",
       "      <th></th>\n",
       "      <th></th>\n",
       "      <th></th>\n",
       "    </tr>\n",
       "  </thead>\n",
       "  <tbody>\n",
       "    <tr>\n",
       "      <th rowspan=\"6\" valign=\"top\">1</th>\n",
       "      <th>1</th>\n",
       "      <td>Тюмень</td>\n",
       "      <td>2</td>\n",
       "      <td>7027.511294</td>\n",
       "      <td>42</td>\n",
       "      <td>6</td>\n",
       "      <td>0</td>\n",
       "      <td>199</td>\n",
       "      <td>ultra</td>\n",
       "      <td>451</td>\n",
       "    </tr>\n",
       "    <tr>\n",
       "      <th>4</th>\n",
       "      <td>Тюмень</td>\n",
       "      <td>1</td>\n",
       "      <td>754.159807</td>\n",
       "      <td>7</td>\n",
       "      <td>6</td>\n",
       "      <td>0</td>\n",
       "      <td>199</td>\n",
       "      <td>ultra</td>\n",
       "      <td>241</td>\n",
       "    </tr>\n",
       "    <tr>\n",
       "      <th>8</th>\n",
       "      <td>Тюмень</td>\n",
       "      <td>2</td>\n",
       "      <td>6723.470560</td>\n",
       "      <td>46</td>\n",
       "      <td>6</td>\n",
       "      <td>0</td>\n",
       "      <td>199</td>\n",
       "      <td>ultra</td>\n",
       "      <td>475</td>\n",
       "    </tr>\n",
       "    <tr>\n",
       "      <th>10</th>\n",
       "      <td>Тюмень</td>\n",
       "      <td>2</td>\n",
       "      <td>5809.911100</td>\n",
       "      <td>32</td>\n",
       "      <td>6</td>\n",
       "      <td>0</td>\n",
       "      <td>199</td>\n",
       "      <td>ultra</td>\n",
       "      <td>391</td>\n",
       "    </tr>\n",
       "    <tr>\n",
       "      <th>11</th>\n",
       "      <td>Тюмень</td>\n",
       "      <td>3</td>\n",
       "      <td>7003.499363</td>\n",
       "      <td>56</td>\n",
       "      <td>6</td>\n",
       "      <td>0</td>\n",
       "      <td>199</td>\n",
       "      <td>ultra</td>\n",
       "      <td>535</td>\n",
       "    </tr>\n",
       "    <tr>\n",
       "      <th>12</th>\n",
       "      <td>Тюмень</td>\n",
       "      <td>2</td>\n",
       "      <td>6751.629942</td>\n",
       "      <td>28</td>\n",
       "      <td>6</td>\n",
       "      <td>0</td>\n",
       "      <td>199</td>\n",
       "      <td>ultra</td>\n",
       "      <td>367</td>\n",
       "    </tr>\n",
       "    <tr>\n",
       "      <th rowspan=\"7\" valign=\"top\">2</th>\n",
       "      <th>3</th>\n",
       "      <td>Омск</td>\n",
       "      <td>3</td>\n",
       "      <td>10187.723006</td>\n",
       "      <td>63</td>\n",
       "      <td>6</td>\n",
       "      <td>0</td>\n",
       "      <td>199</td>\n",
       "      <td>ultra</td>\n",
       "      <td>577</td>\n",
       "    </tr>\n",
       "    <tr>\n",
       "      <th>4</th>\n",
       "      <td>Омск</td>\n",
       "      <td>2</td>\n",
       "      <td>6164.381824</td>\n",
       "      <td>40</td>\n",
       "      <td>6</td>\n",
       "      <td>0</td>\n",
       "      <td>199</td>\n",
       "      <td>ultra</td>\n",
       "      <td>439</td>\n",
       "    </tr>\n",
       "    <tr>\n",
       "      <th>6</th>\n",
       "      <td>Омск</td>\n",
       "      <td>1</td>\n",
       "      <td>3255.338202</td>\n",
       "      <td>14</td>\n",
       "      <td>6</td>\n",
       "      <td>0</td>\n",
       "      <td>199</td>\n",
       "      <td>ultra</td>\n",
       "      <td>283</td>\n",
       "    </tr>\n",
       "    <tr>\n",
       "      <th>7</th>\n",
       "      <td>Омск</td>\n",
       "      <td>2</td>\n",
       "      <td>6780.722964</td>\n",
       "      <td>48</td>\n",
       "      <td>6</td>\n",
       "      <td>0</td>\n",
       "      <td>199</td>\n",
       "      <td>ultra</td>\n",
       "      <td>487</td>\n",
       "    </tr>\n",
       "    <tr>\n",
       "      <th>8</th>\n",
       "      <td>Омск</td>\n",
       "      <td>1</td>\n",
       "      <td>923.007439</td>\n",
       "      <td>7</td>\n",
       "      <td>6</td>\n",
       "      <td>0</td>\n",
       "      <td>199</td>\n",
       "      <td>ultra</td>\n",
       "      <td>241</td>\n",
       "    </tr>\n",
       "    <tr>\n",
       "      <th>10</th>\n",
       "      <td>Омск</td>\n",
       "      <td>1</td>\n",
       "      <td>2824.636598</td>\n",
       "      <td>19</td>\n",
       "      <td>6</td>\n",
       "      <td>0</td>\n",
       "      <td>199</td>\n",
       "      <td>ultra</td>\n",
       "      <td>313</td>\n",
       "    </tr>\n",
       "    <tr>\n",
       "      <th>12</th>\n",
       "      <td>Омск</td>\n",
       "      <td>1</td>\n",
       "      <td>3828.248580</td>\n",
       "      <td>12</td>\n",
       "      <td>6</td>\n",
       "      <td>0</td>\n",
       "      <td>199</td>\n",
       "      <td>ultra</td>\n",
       "      <td>271</td>\n",
       "    </tr>\n",
       "    <tr>\n",
       "      <th rowspan=\"7\" valign=\"top\">3</th>\n",
       "      <th>1</th>\n",
       "      <td>Москва</td>\n",
       "      <td>1</td>\n",
       "      <td>3061.777147</td>\n",
       "      <td>13</td>\n",
       "      <td>6</td>\n",
       "      <td>0</td>\n",
       "      <td>199</td>\n",
       "      <td>ultra</td>\n",
       "      <td>277</td>\n",
       "    </tr>\n",
       "    <tr>\n",
       "      <th>2</th>\n",
       "      <td>Москва</td>\n",
       "      <td>2</td>\n",
       "      <td>5421.152016</td>\n",
       "      <td>39</td>\n",
       "      <td>6</td>\n",
       "      <td>0</td>\n",
       "      <td>199</td>\n",
       "      <td>ultra</td>\n",
       "      <td>433</td>\n",
       "    </tr>\n",
       "    <tr>\n",
       "      <th>4</th>\n",
       "      <td>Москва</td>\n",
       "      <td>1</td>\n",
       "      <td>2956.651632</td>\n",
       "      <td>21</td>\n",
       "      <td>6</td>\n",
       "      <td>0</td>\n",
       "      <td>199</td>\n",
       "      <td>ultra</td>\n",
       "      <td>325</td>\n",
       "    </tr>\n",
       "    <tr>\n",
       "      <th>5</th>\n",
       "      <td>Москва</td>\n",
       "      <td>3</td>\n",
       "      <td>9064.026918</td>\n",
       "      <td>63</td>\n",
       "      <td>6</td>\n",
       "      <td>0</td>\n",
       "      <td>199</td>\n",
       "      <td>ultra</td>\n",
       "      <td>577</td>\n",
       "    </tr>\n",
       "    <tr>\n",
       "      <th>7</th>\n",
       "      <td>Москва</td>\n",
       "      <td>3</td>\n",
       "      <td>10919.595403</td>\n",
       "      <td>67</td>\n",
       "      <td>6</td>\n",
       "      <td>0</td>\n",
       "      <td>199</td>\n",
       "      <td>ultra</td>\n",
       "      <td>601</td>\n",
       "    </tr>\n",
       "    <tr>\n",
       "      <th>9</th>\n",
       "      <td>Москва</td>\n",
       "      <td>1</td>\n",
       "      <td>2891.012822</td>\n",
       "      <td>23</td>\n",
       "      <td>6</td>\n",
       "      <td>0</td>\n",
       "      <td>199</td>\n",
       "      <td>ultra</td>\n",
       "      <td>337</td>\n",
       "    </tr>\n",
       "    <tr>\n",
       "      <th>12</th>\n",
       "      <td>Москва</td>\n",
       "      <td>1</td>\n",
       "      <td>2593.381928</td>\n",
       "      <td>13</td>\n",
       "      <td>6</td>\n",
       "      <td>0</td>\n",
       "      <td>199</td>\n",
       "      <td>ultra</td>\n",
       "      <td>277</td>\n",
       "    </tr>\n",
       "    <tr>\n",
       "      <th rowspan=\"6\" valign=\"top\">4</th>\n",
       "      <th>2</th>\n",
       "      <td>Ростов-на-Дону</td>\n",
       "      <td>2</td>\n",
       "      <td>6339.696747</td>\n",
       "      <td>49</td>\n",
       "      <td>6</td>\n",
       "      <td>0</td>\n",
       "      <td>199</td>\n",
       "      <td>ultra</td>\n",
       "      <td>493</td>\n",
       "    </tr>\n",
       "    <tr>\n",
       "      <th>6</th>\n",
       "      <td>Ростов-на-Дону</td>\n",
       "      <td>2</td>\n",
       "      <td>6753.041806</td>\n",
       "      <td>45</td>\n",
       "      <td>6</td>\n",
       "      <td>0</td>\n",
       "      <td>199</td>\n",
       "      <td>ultra</td>\n",
       "      <td>469</td>\n",
       "    </tr>\n",
       "    <tr>\n",
       "      <th>7</th>\n",
       "      <td>Ростов-на-Дону</td>\n",
       "      <td>3</td>\n",
       "      <td>10491.175555</td>\n",
       "      <td>56</td>\n",
       "      <td>6</td>\n",
       "      <td>0</td>\n",
       "      <td>199</td>\n",
       "      <td>ultra</td>\n",
       "      <td>535</td>\n",
       "    </tr>\n",
       "    <tr>\n",
       "      <th>8</th>\n",
       "      <td>Ростов-на-Дону</td>\n",
       "      <td>1</td>\n",
       "      <td>4649.488243</td>\n",
       "      <td>36</td>\n",
       "      <td>6</td>\n",
       "      <td>0</td>\n",
       "      <td>199</td>\n",
       "      <td>ultra</td>\n",
       "      <td>415</td>\n",
       "    </tr>\n",
       "    <tr>\n",
       "      <th>10</th>\n",
       "      <td>Ростов-на-Дону</td>\n",
       "      <td>4</td>\n",
       "      <td>13260.762274</td>\n",
       "      <td>79</td>\n",
       "      <td>6</td>\n",
       "      <td>0</td>\n",
       "      <td>199</td>\n",
       "      <td>ultra</td>\n",
       "      <td>673</td>\n",
       "    </tr>\n",
       "    <tr>\n",
       "      <th>11</th>\n",
       "      <td>Ростов-на-Дону</td>\n",
       "      <td>2</td>\n",
       "      <td>3343.025291</td>\n",
       "      <td>28</td>\n",
       "      <td>6</td>\n",
       "      <td>0</td>\n",
       "      <td>199</td>\n",
       "      <td>ultra</td>\n",
       "      <td>367</td>\n",
       "    </tr>\n",
       "    <tr>\n",
       "      <th rowspan=\"8\" valign=\"top\">5</th>\n",
       "      <th>1</th>\n",
       "      <td>Омск</td>\n",
       "      <td>1</td>\n",
       "      <td>3914.646990</td>\n",
       "      <td>13</td>\n",
       "      <td>6</td>\n",
       "      <td>0</td>\n",
       "      <td>199</td>\n",
       "      <td>ultra</td>\n",
       "      <td>277</td>\n",
       "    </tr>\n",
       "    <tr>\n",
       "      <th>2</th>\n",
       "      <td>Омск</td>\n",
       "      <td>1</td>\n",
       "      <td>2561.108241</td>\n",
       "      <td>12</td>\n",
       "      <td>6</td>\n",
       "      <td>0</td>\n",
       "      <td>199</td>\n",
       "      <td>ultra</td>\n",
       "      <td>271</td>\n",
       "    </tr>\n",
       "    <tr>\n",
       "      <th>3</th>\n",
       "      <td>Омск</td>\n",
       "      <td>3</td>\n",
       "      <td>10633.732186</td>\n",
       "      <td>57</td>\n",
       "      <td>6</td>\n",
       "      <td>0</td>\n",
       "      <td>199</td>\n",
       "      <td>ultra</td>\n",
       "      <td>541</td>\n",
       "    </tr>\n",
       "    <tr>\n",
       "      <th>4</th>\n",
       "      <td>Омск</td>\n",
       "      <td>1</td>\n",
       "      <td>3373.080412</td>\n",
       "      <td>15</td>\n",
       "      <td>6</td>\n",
       "      <td>0</td>\n",
       "      <td>199</td>\n",
       "      <td>ultra</td>\n",
       "      <td>289</td>\n",
       "    </tr>\n",
       "    <tr>\n",
       "      <th>5</th>\n",
       "      <td>Омск</td>\n",
       "      <td>2</td>\n",
       "      <td>5823.074031</td>\n",
       "      <td>33</td>\n",
       "      <td>6</td>\n",
       "      <td>0</td>\n",
       "      <td>199</td>\n",
       "      <td>ultra</td>\n",
       "      <td>397</td>\n",
       "    </tr>\n",
       "    <tr>\n",
       "      <th>7</th>\n",
       "      <td>Омск</td>\n",
       "      <td>1</td>\n",
       "      <td>3311.974724</td>\n",
       "      <td>12</td>\n",
       "      <td>6</td>\n",
       "      <td>0</td>\n",
       "      <td>199</td>\n",
       "      <td>ultra</td>\n",
       "      <td>271</td>\n",
       "    </tr>\n",
       "    <tr>\n",
       "      <th>8</th>\n",
       "      <td>Омск</td>\n",
       "      <td>1</td>\n",
       "      <td>2720.817111</td>\n",
       "      <td>18</td>\n",
       "      <td>6</td>\n",
       "      <td>0</td>\n",
       "      <td>199</td>\n",
       "      <td>ultra</td>\n",
       "      <td>307</td>\n",
       "    </tr>\n",
       "    <tr>\n",
       "      <th>10</th>\n",
       "      <td>Омск</td>\n",
       "      <td>1</td>\n",
       "      <td>3218.515955</td>\n",
       "      <td>20</td>\n",
       "      <td>6</td>\n",
       "      <td>0</td>\n",
       "      <td>199</td>\n",
       "      <td>ultra</td>\n",
       "      <td>319</td>\n",
       "    </tr>\n",
       "    <tr>\n",
       "      <th rowspan=\"7\" valign=\"top\">6</th>\n",
       "      <th>2</th>\n",
       "      <td>Краснодар</td>\n",
       "      <td>1</td>\n",
       "      <td>3961.432708</td>\n",
       "      <td>28</td>\n",
       "      <td>6</td>\n",
       "      <td>0</td>\n",
       "      <td>199</td>\n",
       "      <td>ultra</td>\n",
       "      <td>367</td>\n",
       "    </tr>\n",
       "    <tr>\n",
       "      <th>5</th>\n",
       "      <td>Краснодар</td>\n",
       "      <td>3</td>\n",
       "      <td>11013.574364</td>\n",
       "      <td>72</td>\n",
       "      <td>6</td>\n",
       "      <td>0</td>\n",
       "      <td>199</td>\n",
       "      <td>ultra</td>\n",
       "      <td>631</td>\n",
       "    </tr>\n",
       "    <tr>\n",
       "      <th>8</th>\n",
       "      <td>Краснодар</td>\n",
       "      <td>1</td>\n",
       "      <td>3142.271823</td>\n",
       "      <td>17</td>\n",
       "      <td>6</td>\n",
       "      <td>0</td>\n",
       "      <td>199</td>\n",
       "      <td>ultra</td>\n",
       "      <td>301</td>\n",
       "    </tr>\n",
       "    <tr>\n",
       "      <th>9</th>\n",
       "      <td>Краснодар</td>\n",
       "      <td>1</td>\n",
       "      <td>3346.098372</td>\n",
       "      <td>20</td>\n",
       "      <td>6</td>\n",
       "      <td>0</td>\n",
       "      <td>199</td>\n",
       "      <td>ultra</td>\n",
       "      <td>319</td>\n",
       "    </tr>\n",
       "    <tr>\n",
       "      <th>10</th>\n",
       "      <td>Краснодар</td>\n",
       "      <td>1</td>\n",
       "      <td>2350.641957</td>\n",
       "      <td>11</td>\n",
       "      <td>6</td>\n",
       "      <td>0</td>\n",
       "      <td>199</td>\n",
       "      <td>ultra</td>\n",
       "      <td>265</td>\n",
       "    </tr>\n",
       "    <tr>\n",
       "      <th>11</th>\n",
       "      <td>Краснодар</td>\n",
       "      <td>1</td>\n",
       "      <td>3339.625640</td>\n",
       "      <td>17</td>\n",
       "      <td>6</td>\n",
       "      <td>0</td>\n",
       "      <td>199</td>\n",
       "      <td>ultra</td>\n",
       "      <td>301</td>\n",
       "    </tr>\n",
       "    <tr>\n",
       "      <th>12</th>\n",
       "      <td>Краснодар</td>\n",
       "      <td>2</td>\n",
       "      <td>6924.961829</td>\n",
       "      <td>44</td>\n",
       "      <td>6</td>\n",
       "      <td>0</td>\n",
       "      <td>199</td>\n",
       "      <td>ultra</td>\n",
       "      <td>463</td>\n",
       "    </tr>\n",
       "    <tr>\n",
       "      <th rowspan=\"9\" valign=\"top\">7</th>\n",
       "      <th>1</th>\n",
       "      <td>Омск</td>\n",
       "      <td>2</td>\n",
       "      <td>6478.080979</td>\n",
       "      <td>28</td>\n",
       "      <td>6</td>\n",
       "      <td>0</td>\n",
       "      <td>199</td>\n",
       "      <td>ultra</td>\n",
       "      <td>367</td>\n",
       "    </tr>\n",
       "    <tr>\n",
       "      <th>3</th>\n",
       "      <td>Омск</td>\n",
       "      <td>1</td>\n",
       "      <td>3679.561009</td>\n",
       "      <td>21</td>\n",
       "      <td>6</td>\n",
       "      <td>0</td>\n",
       "      <td>199</td>\n",
       "      <td>ultra</td>\n",
       "      <td>325</td>\n",
       "    </tr>\n",
       "    <tr>\n",
       "      <th>4</th>\n",
       "      <td>Омск</td>\n",
       "      <td>2</td>\n",
       "      <td>4888.946162</td>\n",
       "      <td>38</td>\n",
       "      <td>6</td>\n",
       "      <td>0</td>\n",
       "      <td>199</td>\n",
       "      <td>ultra</td>\n",
       "      <td>427</td>\n",
       "    </tr>\n",
       "    <tr>\n",
       "      <th>5</th>\n",
       "      <td>Омск</td>\n",
       "      <td>1</td>\n",
       "      <td>2971.564811</td>\n",
       "      <td>15</td>\n",
       "      <td>6</td>\n",
       "      <td>0</td>\n",
       "      <td>199</td>\n",
       "      <td>ultra</td>\n",
       "      <td>289</td>\n",
       "    </tr>\n",
       "    <tr>\n",
       "      <th>6</th>\n",
       "      <td>Омск</td>\n",
       "      <td>1</td>\n",
       "      <td>2508.554171</td>\n",
       "      <td>19</td>\n",
       "      <td>6</td>\n",
       "      <td>0</td>\n",
       "      <td>199</td>\n",
       "      <td>ultra</td>\n",
       "      <td>313</td>\n",
       "    </tr>\n",
       "    <tr>\n",
       "      <th>7</th>\n",
       "      <td>Омск</td>\n",
       "      <td>2</td>\n",
       "      <td>6097.825669</td>\n",
       "      <td>35</td>\n",
       "      <td>6</td>\n",
       "      <td>0</td>\n",
       "      <td>199</td>\n",
       "      <td>ultra</td>\n",
       "      <td>409</td>\n",
       "    </tr>\n",
       "    <tr>\n",
       "      <th>8</th>\n",
       "      <td>Омск</td>\n",
       "      <td>1</td>\n",
       "      <td>3008.257505</td>\n",
       "      <td>15</td>\n",
       "      <td>6</td>\n",
       "      <td>0</td>\n",
       "      <td>199</td>\n",
       "      <td>ultra</td>\n",
       "      <td>289</td>\n",
       "    </tr>\n",
       "    <tr>\n",
       "      <th>11</th>\n",
       "      <td>Омск</td>\n",
       "      <td>4</td>\n",
       "      <td>12879.354733</td>\n",
       "      <td>67</td>\n",
       "      <td>6</td>\n",
       "      <td>0</td>\n",
       "      <td>199</td>\n",
       "      <td>ultra</td>\n",
       "      <td>601</td>\n",
       "    </tr>\n",
       "    <tr>\n",
       "      <th>12</th>\n",
       "      <td>Омск</td>\n",
       "      <td>2</td>\n",
       "      <td>6195.334108</td>\n",
       "      <td>30</td>\n",
       "      <td>6</td>\n",
       "      <td>0</td>\n",
       "      <td>199</td>\n",
       "      <td>ultra</td>\n",
       "      <td>379</td>\n",
       "    </tr>\n",
       "  </tbody>\n",
       "</table>\n",
       "</div>"
      ],
      "text/plain": [
       "                         city  date      distance  duration  minute_price  \\\n",
       "user_id month                                                               \n",
       "1       1              Тюмень     2   7027.511294        42             6   \n",
       "        4              Тюмень     1    754.159807         7             6   \n",
       "        8              Тюмень     2   6723.470560        46             6   \n",
       "        10             Тюмень     2   5809.911100        32             6   \n",
       "        11             Тюмень     3   7003.499363        56             6   \n",
       "        12             Тюмень     2   6751.629942        28             6   \n",
       "2       3                Омск     3  10187.723006        63             6   \n",
       "        4                Омск     2   6164.381824        40             6   \n",
       "        6                Омск     1   3255.338202        14             6   \n",
       "        7                Омск     2   6780.722964        48             6   \n",
       "        8                Омск     1    923.007439         7             6   \n",
       "        10               Омск     1   2824.636598        19             6   \n",
       "        12               Омск     1   3828.248580        12             6   \n",
       "3       1              Москва     1   3061.777147        13             6   \n",
       "        2              Москва     2   5421.152016        39             6   \n",
       "        4              Москва     1   2956.651632        21             6   \n",
       "        5              Москва     3   9064.026918        63             6   \n",
       "        7              Москва     3  10919.595403        67             6   \n",
       "        9              Москва     1   2891.012822        23             6   \n",
       "        12             Москва     1   2593.381928        13             6   \n",
       "4       2      Ростов-на-Дону     2   6339.696747        49             6   \n",
       "        6      Ростов-на-Дону     2   6753.041806        45             6   \n",
       "        7      Ростов-на-Дону     3  10491.175555        56             6   \n",
       "        8      Ростов-на-Дону     1   4649.488243        36             6   \n",
       "        10     Ростов-на-Дону     4  13260.762274        79             6   \n",
       "        11     Ростов-на-Дону     2   3343.025291        28             6   \n",
       "5       1                Омск     1   3914.646990        13             6   \n",
       "        2                Омск     1   2561.108241        12             6   \n",
       "        3                Омск     3  10633.732186        57             6   \n",
       "        4                Омск     1   3373.080412        15             6   \n",
       "        5                Омск     2   5823.074031        33             6   \n",
       "        7                Омск     1   3311.974724        12             6   \n",
       "        8                Омск     1   2720.817111        18             6   \n",
       "        10               Омск     1   3218.515955        20             6   \n",
       "6       2           Краснодар     1   3961.432708        28             6   \n",
       "        5           Краснодар     3  11013.574364        72             6   \n",
       "        8           Краснодар     1   3142.271823        17             6   \n",
       "        9           Краснодар     1   3346.098372        20             6   \n",
       "        10          Краснодар     1   2350.641957        11             6   \n",
       "        11          Краснодар     1   3339.625640        17             6   \n",
       "        12          Краснодар     2   6924.961829        44             6   \n",
       "7       1                Омск     2   6478.080979        28             6   \n",
       "        3                Омск     1   3679.561009        21             6   \n",
       "        4                Омск     2   4888.946162        38             6   \n",
       "        5                Омск     1   2971.564811        15             6   \n",
       "        6                Омск     1   2508.554171        19             6   \n",
       "        7                Омск     2   6097.825669        35             6   \n",
       "        8                Омск     1   3008.257505        15             6   \n",
       "        11               Омск     4  12879.354733        67             6   \n",
       "        12               Омск     2   6195.334108        30             6   \n",
       "\n",
       "               start_ride_price  subscription_fee subscription_type  \\\n",
       "user_id month                                                         \n",
       "1       1                     0               199             ultra   \n",
       "        4                     0               199             ultra   \n",
       "        8                     0               199             ultra   \n",
       "        10                    0               199             ultra   \n",
       "        11                    0               199             ultra   \n",
       "        12                    0               199             ultra   \n",
       "2       3                     0               199             ultra   \n",
       "        4                     0               199             ultra   \n",
       "        6                     0               199             ultra   \n",
       "        7                     0               199             ultra   \n",
       "        8                     0               199             ultra   \n",
       "        10                    0               199             ultra   \n",
       "        12                    0               199             ultra   \n",
       "3       1                     0               199             ultra   \n",
       "        2                     0               199             ultra   \n",
       "        4                     0               199             ultra   \n",
       "        5                     0               199             ultra   \n",
       "        7                     0               199             ultra   \n",
       "        9                     0               199             ultra   \n",
       "        12                    0               199             ultra   \n",
       "4       2                     0               199             ultra   \n",
       "        6                     0               199             ultra   \n",
       "        7                     0               199             ultra   \n",
       "        8                     0               199             ultra   \n",
       "        10                    0               199             ultra   \n",
       "        11                    0               199             ultra   \n",
       "5       1                     0               199             ultra   \n",
       "        2                     0               199             ultra   \n",
       "        3                     0               199             ultra   \n",
       "        4                     0               199             ultra   \n",
       "        5                     0               199             ultra   \n",
       "        7                     0               199             ultra   \n",
       "        8                     0               199             ultra   \n",
       "        10                    0               199             ultra   \n",
       "6       2                     0               199             ultra   \n",
       "        5                     0               199             ultra   \n",
       "        8                     0               199             ultra   \n",
       "        9                     0               199             ultra   \n",
       "        10                    0               199             ultra   \n",
       "        11                    0               199             ultra   \n",
       "        12                    0               199             ultra   \n",
       "7       1                     0               199             ultra   \n",
       "        3                     0               199             ultra   \n",
       "        4                     0               199             ultra   \n",
       "        5                     0               199             ultra   \n",
       "        6                     0               199             ultra   \n",
       "        7                     0               199             ultra   \n",
       "        8                     0               199             ultra   \n",
       "        11                    0               199             ultra   \n",
       "        12                    0               199             ultra   \n",
       "\n",
       "               month_income  \n",
       "user_id month                \n",
       "1       1               451  \n",
       "        4               241  \n",
       "        8               475  \n",
       "        10              391  \n",
       "        11              535  \n",
       "        12              367  \n",
       "2       3               577  \n",
       "        4               439  \n",
       "        6               283  \n",
       "        7               487  \n",
       "        8               241  \n",
       "        10              313  \n",
       "        12              271  \n",
       "3       1               277  \n",
       "        2               433  \n",
       "        4               325  \n",
       "        5               577  \n",
       "        7               601  \n",
       "        9               337  \n",
       "        12              277  \n",
       "4       2               493  \n",
       "        6               469  \n",
       "        7               535  \n",
       "        8               415  \n",
       "        10              673  \n",
       "        11              367  \n",
       "5       1               277  \n",
       "        2               271  \n",
       "        3               541  \n",
       "        4               289  \n",
       "        5               397  \n",
       "        7               271  \n",
       "        8               307  \n",
       "        10              319  \n",
       "6       2               367  \n",
       "        5               631  \n",
       "        8               301  \n",
       "        9               319  \n",
       "        10              265  \n",
       "        11              301  \n",
       "        12              463  \n",
       "7       1               367  \n",
       "        3               325  \n",
       "        4               427  \n",
       "        5               289  \n",
       "        6               313  \n",
       "        7               409  \n",
       "        8               289  \n",
       "        11              601  \n",
       "        12              379  "
      ]
     },
     "execution_count": 41,
     "metadata": {},
     "output_type": "execute_result"
    }
   ],
   "source": [
    "df_total['month_income']= ((df_total['minute_price'] * df_total['duration']) + (df_total['date'] * df_total['start_ride_price']) +  df_total['subscription_fee']).round(2)\n",
    "df_total.head(50)"
   ]
  },
  {
   "cell_type": "code",
   "execution_count": 42,
   "id": "e64ca9a9",
   "metadata": {},
   "outputs": [
    {
     "name": "stdout",
     "output_type": "stream",
     "text": [
      "<class 'pandas.core.frame.DataFrame'>\n",
      "MultiIndex: 11331 entries, (1, 1) to (1534, 12)\n",
      "Data columns (total 9 columns):\n",
      " #   Column             Non-Null Count  Dtype  \n",
      "---  ------             --------------  -----  \n",
      " 0   city               11331 non-null  object \n",
      " 1   date               11331 non-null  int64  \n",
      " 2   distance           11331 non-null  float64\n",
      " 3   duration           11331 non-null  int64  \n",
      " 4   minute_price       11331 non-null  int64  \n",
      " 5   start_ride_price   11331 non-null  int64  \n",
      " 6   subscription_fee   11331 non-null  int64  \n",
      " 7   subscription_type  11331 non-null  object \n",
      " 8   month_income       11331 non-null  int64  \n",
      "dtypes: float64(1), int64(6), object(2)\n",
      "memory usage: 842.1+ KB\n"
     ]
    }
   ],
   "source": [
    "df_total.info()"
   ]
  },
  {
   "cell_type": "code",
   "execution_count": 43,
   "id": "8b37bdae",
   "metadata": {},
   "outputs": [
    {
     "data": {
      "text/plain": [
       "3878641"
      ]
     },
     "execution_count": 43,
     "metadata": {},
     "output_type": "execute_result"
    }
   ],
   "source": [
    "df_total['month_income'].sum()"
   ]
  },
  {
   "cell_type": "markdown",
   "id": "1bda7716",
   "metadata": {},
   "source": [
    "\n",
    "\n",
    "В итоговом датасете получилась 11331 запись, 9 столбцов, посчитана выручка сервиса кикшеринга благодаря созданию сводной таблице по айди и месяцам, получена сумма длительностей поездок по месяцам и расстояние, соответственно.\n",
    "Распределение выручки выглядит достаточно нелогично: даже в зимние месяцы она достаточно высокая, может сравниться с выручкой за июнь-август.\n",
    "    \n",
    "</font>"
   ]
  },
  {
   "cell_type": "markdown",
   "id": "e835679c",
   "metadata": {},
   "source": [
    "#### Шаг 6. Проверка гипотез"
   ]
  },
  {
   "cell_type": "markdown",
   "id": "de37da49",
   "metadata": {},
   "source": [
    "Нулевая гипотеза:\n",
    "Длительность поездок у пользователей с подпиской и без одинакова.\n",
    "\n",
    "Альтернативная гипотеза:\n",
    "\n",
    "Длительность поездок у  пользователей с подпиской больше."
   ]
  },
  {
   "cell_type": "code",
   "execution_count": 44,
   "id": "deafea03",
   "metadata": {},
   "outputs": [
    {
     "name": "stdout",
     "output_type": "stream",
     "text": [
      "p-value: 2.4959453720736625e-34\n",
      "Отвергаем нулевую гипотезу\n"
     ]
    }
   ],
   "source": [
    "alpha = 0.05 \n",
    "results = st.ttest_ind(ultra['duration'], free['duration'], alternative='greater')\n",
    "\n",
    "print('p-value:', results.pvalue)\n",
    "\n",
    "if results.pvalue < alpha:\n",
    "    print('Отвергаем нулевую гипотезу')\n",
    "else:\n",
    "    print('Не отвергаем нулевую гипотезу')"
   ]
  },
  {
   "cell_type": "markdown",
   "id": "cd10c898",
   "metadata": {},
   "source": [
    "Поездки пользователей с подпиской дольше, чем поездки у пользователей без подписки."
   ]
  },
  {
   "cell_type": "markdown",
   "id": "a52a8cd2",
   "metadata": {},
   "source": [
    "Нулевая гипотеза:\n",
    "В среднем distance у людей с подпиской равно 3130\n",
    "\n",
    "Альтернативная гипотеза:\n",
    "В среднем distance > 3130"
   ]
  },
  {
   "cell_type": "code",
   "execution_count": 45,
   "id": "9dde0381",
   "metadata": {},
   "outputs": [
    {
     "name": "stdout",
     "output_type": "stream",
     "text": [
      "p-value: 0.9195368847849785\n",
      "Не отвергаем нулевую гипотезу\n"
     ]
    }
   ],
   "source": [
    "avg = 3130\n",
    "\n",
    "alpha = 0.05 \n",
    "\n",
    "results = st.ttest_1samp(ultra['distance'], avg, alternative='greater')\n",
    "\n",
    "print('p-value:', results.pvalue) \n",
    "\n",
    "if (results.pvalue < alpha):\n",
    "    print('Отвергаем нулевую гипотезу')\n",
    "else:\n",
    "    print('Не отвергаем нулевую гипотезу') "
   ]
  },
  {
   "cell_type": "markdown",
   "id": "dcabe1bc",
   "metadata": {},
   "source": [
    "Нулевая гипотеза не отвергается, пользователи с подпиской проезжают в среднем 3130 метров."
   ]
  },
  {
   "cell_type": "markdown",
   "id": "1a1a2198",
   "metadata": {},
   "source": [
    "Нулевая гипотеза:\n",
    "Выручка от обеих категорий пользователей одинакова\n",
    "\n",
    "Альтернативная гипотеза:\n",
    "Выручка от платных подписчиков больше"
   ]
  },
  {
   "cell_type": "code",
   "execution_count": 46,
   "id": "c22c9d9e",
   "metadata": {},
   "outputs": [
    {
     "name": "stdout",
     "output_type": "stream",
     "text": [
      "p-value: 1.8850394384715216e-31\n",
      "Отвергаем нулевую гипотезу\n"
     ]
    }
   ],
   "source": [
    "results = st.ttest_ind(df_total[df_total['subscription_type'] == 'ultra']['month_income'], df_total[df_total['subscription_type'] == 'free']['month_income'], alternative = 'greater')\n",
    "print('p-value:', results.pvalue)\n",
    "\n",
    "if results.pvalue < alpha:\n",
    "    print('Отвергаем нулевую гипотезу')\n",
    "else:\n",
    "    print('Не получилось отвергнуть нулевую гипотезу')"
   ]
  },
  {
   "cell_type": "markdown",
   "id": "c1f3c60a",
   "metadata": {},
   "source": [
    "Статистический анализ показал, что средняя месячная выручка от пользователей с подпиской выше, чем от пользователей без подписки. Этот вывод подтвержден с уровнем значимости 5%, что позволяет отвергнуть гипотезу о равенстве средней выручки."
   ]
  },
  {
   "cell_type": "markdown",
   "id": "23669f20",
   "metadata": {},
   "source": [
    "Теоретическая гипотеза\n",
    "\n",
    "Проверка гипотезы о снижении обращений в техподдержку:\n",
    "\n",
    "Для проверки гипотезы о том, что обновление серверов привело к снижению количества обращений в техподдержку, необходимо использовать парный t-тест для зависимых выборок (в Python – scipy.stats.ttest_rel()). \n",
    "Тест должен быть левосторонним, так как нас интересует снижение количества обращений.\n",
    "Для проведения теста требуется информация о количестве обращений до и после обновления серверов для каждого пользователя.\n"
   ]
  },
  {
   "cell_type": "markdown",
   "id": "1de57195",
   "metadata": {},
   "source": [
    "<font color='blue'> \n",
    "Описание этапов исследования:\n",
    "\n",
    "1. Загрузка данных:\n",
    "    Проанализированы три датасета: data_1, data_2 и data_3.\n",
    "    Выявлены и устранены дубликаты в data_1.\n",
    "    Проверены типы данных, которые были скорректированы для корректной обработки.\n",
    "    Данные признаны полными и достаточными для исследования.\n",
    "\n",
    "2. Предобработка данных:\n",
    "    В датасете data_1:\n",
    "    Удалены дубликаты.\n",
    "    Округлены значения продолжительности поездки duration до целых чисел.\n",
    "    Преобразована дата date в формат datetime64.\n",
    "    Создан столбец month с номером месяца из date.\n",
    "    В датасете data_3 изменений не проводилось.\n",
    "\n",
    "3. Исследовательский анализ данных:\n",
    "\n",
    "Географическое распределение:\n",
    "    Сервис GoFast пользуется большей популярностью в южных городах, где сезон проката продолжительнее.\n",
    "    Екатеринбург занял второе место по количеству пользователей.\n",
    "\n",
    "Пользователи с подпиской:\n",
    "    Количество пользователей без подписки (free) (54,4%) превышает количество пользователей с подпиской (ultra) (45,6%).\n",
    "\n",
    "Демография:\n",
    "    Средний возраст пользователей приближен к 25 годам (медиана и среднее значение практически совпадают). \n",
    "\n",
    "Расстояние поездок:\n",
    "    Медианное расстояние поездок - 3133 метра.\n",
    "    Распределение расстояний имеет два пика: один в районе 700 метров, другой - около 3133 метров.\n",
    "\n",
    "Продолжительность поездок:\n",
    "    Медианная продолжительность поездок - 18 минут.\n",
    "    Обнаружены аномалии в продолжительности поездок (время менее 1 минуты) и аномальные значения средней скорости перемещения\n",
    "    (4000-7211 м/мин).\n",
    "\n",
    "4. Объединение данных:\n",
    "\n",
    "    Влияние подписки на расстояние:\n",
    "    Медианное расстояние поездок для пользователей с подпиской ultra несколько больше, чем для пользователей free.\n",
    "    Разброс расстояний у пользователей с подпиской ultra меньше.\n",
    "    Пик распределения расстояний у пользователей free смещен к 500 метрам, а у пользователей ultra - к 1000 метрам.\n",
    "\n",
    "    Влияние подписки на время:\n",
    "    Медианное время поездок для пользователей с подпиской ultra больше, чем для пользователей free.\n",
    "    Разброс времени поездок у пользователей с подпиской ultra меньше.\n",
    "\n",
    "Выводы:\n",
    "\n",
    "Подписка ultra влияет на расстояние и продолжительность поездок.\n",
    "Пользователи с подпиской ultra совершают более продолжительные поездки на чуть большее расстояние, при этом их поездки отличаются меньшим разбросом.\n",
    "Обнаружены аномалии в данных о продолжительности поездок и скорости движения.\n",
    "Необходимо провести дополнительные исследования для выяснения причин обнаруженных аномалий.\n",
    "    \n",
    "</font>"
   ]
  }
 ],
 "metadata": {
  "ExecuteTimeLog": [
   {
    "duration": 47,
    "start_time": "2024-07-18T18:01:46.143Z"
   },
   {
    "duration": 435,
    "start_time": "2024-07-18T18:01:49.888Z"
   },
   {
    "duration": 88,
    "start_time": "2024-07-18T18:01:51.797Z"
   },
   {
    "duration": 33,
    "start_time": "2024-07-18T18:02:00.314Z"
   },
   {
    "duration": 119,
    "start_time": "2024-07-18T18:02:14.954Z"
   },
   {
    "duration": 33,
    "start_time": "2024-07-18T18:02:16.978Z"
   },
   {
    "duration": 41,
    "start_time": "2024-07-18T18:02:26.593Z"
   },
   {
    "duration": 21,
    "start_time": "2024-07-18T18:02:38.896Z"
   },
   {
    "duration": 8,
    "start_time": "2024-07-18T18:02:45.597Z"
   },
   {
    "duration": 14,
    "start_time": "2024-07-18T18:02:52.904Z"
   },
   {
    "duration": 9,
    "start_time": "2024-07-18T18:16:23.954Z"
   },
   {
    "duration": 7,
    "start_time": "2024-07-18T18:16:32.715Z"
   },
   {
    "duration": 8,
    "start_time": "2024-07-18T18:16:55.684Z"
   },
   {
    "duration": 7,
    "start_time": "2024-07-18T18:17:02.110Z"
   },
   {
    "duration": 6,
    "start_time": "2024-07-18T18:58:14.733Z"
   },
   {
    "duration": 515,
    "start_time": "2024-07-18T18:59:02.143Z"
   },
   {
    "duration": 20,
    "start_time": "2024-07-18T18:59:18.803Z"
   },
   {
    "duration": 10,
    "start_time": "2024-07-18T18:59:32.607Z"
   },
   {
    "duration": 98,
    "start_time": "2024-07-18T19:02:27.440Z"
   },
   {
    "duration": 6,
    "start_time": "2024-07-18T19:04:11.506Z"
   },
   {
    "duration": 5,
    "start_time": "2024-07-18T19:04:18.183Z"
   },
   {
    "duration": 5,
    "start_time": "2024-07-18T19:04:40.048Z"
   },
   {
    "duration": 8,
    "start_time": "2024-07-18T19:04:53.307Z"
   },
   {
    "duration": 8,
    "start_time": "2024-07-18T19:05:12.319Z"
   },
   {
    "duration": 5,
    "start_time": "2024-07-18T19:05:18.580Z"
   },
   {
    "duration": 6,
    "start_time": "2024-07-18T19:05:43.486Z"
   },
   {
    "duration": 8,
    "start_time": "2024-07-18T19:05:51.455Z"
   },
   {
    "duration": 6,
    "start_time": "2024-07-18T19:05:57.210Z"
   },
   {
    "duration": 39,
    "start_time": "2024-07-18T19:20:51.500Z"
   },
   {
    "duration": 16,
    "start_time": "2024-07-18T19:20:55.168Z"
   },
   {
    "duration": 7,
    "start_time": "2024-07-18T19:20:57.774Z"
   },
   {
    "duration": 12,
    "start_time": "2024-07-18T19:24:33.126Z"
   },
   {
    "duration": 11,
    "start_time": "2024-07-18T19:24:43.412Z"
   },
   {
    "duration": 10,
    "start_time": "2024-07-18T19:25:38.515Z"
   },
   {
    "duration": 7,
    "start_time": "2024-07-18T19:25:48.416Z"
   },
   {
    "duration": 9,
    "start_time": "2024-07-18T19:25:51.732Z"
   },
   {
    "duration": 10,
    "start_time": "2024-07-18T19:52:53.445Z"
   },
   {
    "duration": 8,
    "start_time": "2024-07-18T19:53:35.961Z"
   },
   {
    "duration": 7,
    "start_time": "2024-07-18T19:53:40.081Z"
   },
   {
    "duration": 5,
    "start_time": "2024-07-18T19:53:41.892Z"
   },
   {
    "duration": 13,
    "start_time": "2024-07-18T19:53:49.866Z"
   },
   {
    "duration": 616,
    "start_time": "2024-07-18T20:06:12.759Z"
   },
   {
    "duration": 568,
    "start_time": "2024-07-18T20:06:40.708Z"
   },
   {
    "duration": 191,
    "start_time": "2024-07-18T20:06:47.077Z"
   },
   {
    "duration": 13,
    "start_time": "2024-07-18T20:07:26.012Z"
   },
   {
    "duration": 39,
    "start_time": "2024-07-18T20:08:18.563Z"
   },
   {
    "duration": 181,
    "start_time": "2024-07-18T20:08:23.169Z"
   },
   {
    "duration": 175,
    "start_time": "2024-07-18T20:08:55.757Z"
   },
   {
    "duration": 298,
    "start_time": "2024-07-18T20:09:34.942Z"
   },
   {
    "duration": 9,
    "start_time": "2024-07-18T20:10:10.398Z"
   },
   {
    "duration": 9,
    "start_time": "2024-07-18T20:10:38.898Z"
   },
   {
    "duration": 799,
    "start_time": "2024-07-18T20:10:54.298Z"
   },
   {
    "duration": 723,
    "start_time": "2024-07-18T20:10:55.928Z"
   },
   {
    "duration": 855,
    "start_time": "2024-07-18T20:11:14.182Z"
   },
   {
    "duration": 733,
    "start_time": "2024-07-18T20:11:39.115Z"
   },
   {
    "duration": 9,
    "start_time": "2024-07-18T20:16:29.416Z"
   },
   {
    "duration": 328,
    "start_time": "2024-07-18T20:16:57.223Z"
   },
   {
    "duration": 54,
    "start_time": "2024-07-18T20:23:04.985Z"
   },
   {
    "duration": 14,
    "start_time": "2024-07-18T22:09:08.763Z"
   },
   {
    "duration": 28,
    "start_time": "2024-07-18T22:09:12.192Z"
   },
   {
    "duration": 14,
    "start_time": "2024-07-18T22:09:39.327Z"
   },
   {
    "duration": 6,
    "start_time": "2024-07-18T22:12:48.785Z"
   },
   {
    "duration": 5,
    "start_time": "2024-07-18T22:12:50.853Z"
   },
   {
    "duration": 32,
    "start_time": "2024-07-18T22:13:43.569Z"
   },
   {
    "duration": 30,
    "start_time": "2024-07-18T22:13:46.372Z"
   },
   {
    "duration": 9,
    "start_time": "2024-07-18T22:15:23.194Z"
   },
   {
    "duration": 381,
    "start_time": "2024-07-18T22:15:36.732Z"
   },
   {
    "duration": 342,
    "start_time": "2024-07-18T22:20:10.873Z"
   },
   {
    "duration": 60,
    "start_time": "2024-07-18T22:21:36.534Z"
   },
   {
    "duration": 304,
    "start_time": "2024-07-18T22:21:41.089Z"
   },
   {
    "duration": 5,
    "start_time": "2024-07-18T22:28:25.166Z"
   },
   {
    "duration": 347,
    "start_time": "2024-07-18T22:28:38.069Z"
   },
   {
    "duration": 46,
    "start_time": "2024-07-18T22:32:47.244Z"
   },
   {
    "duration": 33,
    "start_time": "2024-07-18T22:33:12.107Z"
   },
   {
    "duration": 45,
    "start_time": "2024-07-18T22:33:19.825Z"
   },
   {
    "duration": 41,
    "start_time": "2024-07-18T22:33:30.118Z"
   },
   {
    "duration": 930,
    "start_time": "2024-07-18T22:35:47.916Z"
   },
   {
    "duration": 6,
    "start_time": "2024-07-18T22:36:12.850Z"
   },
   {
    "duration": 15,
    "start_time": "2024-07-18T22:36:27.182Z"
   },
   {
    "duration": 16,
    "start_time": "2024-07-18T22:36:46.180Z"
   },
   {
    "duration": 17,
    "start_time": "2024-07-18T22:36:52.049Z"
   },
   {
    "duration": 5,
    "start_time": "2024-07-18T22:36:55.191Z"
   },
   {
    "duration": 16,
    "start_time": "2024-07-18T22:36:58.431Z"
   },
   {
    "duration": 46,
    "start_time": "2024-07-18T22:37:59.995Z"
   },
   {
    "duration": 40,
    "start_time": "2024-07-18T22:38:05.730Z"
   },
   {
    "duration": 41,
    "start_time": "2024-07-18T22:38:12.631Z"
   },
   {
    "duration": 42,
    "start_time": "2024-07-18T22:38:13.117Z"
   },
   {
    "duration": 40,
    "start_time": "2024-07-18T22:38:15.734Z"
   },
   {
    "duration": 8,
    "start_time": "2024-07-18T22:38:19.745Z"
   },
   {
    "duration": 8,
    "start_time": "2024-07-18T22:38:24.505Z"
   },
   {
    "duration": 3,
    "start_time": "2024-07-18T22:38:46.186Z"
   },
   {
    "duration": 41,
    "start_time": "2024-07-18T22:38:49.622Z"
   },
   {
    "duration": 39,
    "start_time": "2024-07-18T22:39:12.688Z"
   },
   {
    "duration": 39,
    "start_time": "2024-07-18T22:39:26.290Z"
   },
   {
    "duration": 15,
    "start_time": "2024-07-18T22:39:33.708Z"
   },
   {
    "duration": 14,
    "start_time": "2024-07-18T22:39:36.435Z"
   },
   {
    "duration": 39,
    "start_time": "2024-07-18T22:40:17.870Z"
   },
   {
    "duration": 3,
    "start_time": "2024-07-18T22:40:33.195Z"
   },
   {
    "duration": 41,
    "start_time": "2024-07-18T22:40:45.227Z"
   },
   {
    "duration": 39,
    "start_time": "2024-07-18T22:40:55.105Z"
   },
   {
    "duration": 15,
    "start_time": "2024-07-18T22:41:02.215Z"
   },
   {
    "duration": 13,
    "start_time": "2024-07-18T22:41:05.154Z"
   },
   {
    "duration": 29,
    "start_time": "2024-07-18T22:42:39.830Z"
   },
   {
    "duration": 12,
    "start_time": "2024-07-18T22:42:47.167Z"
   },
   {
    "duration": 18,
    "start_time": "2024-07-18T22:48:54.964Z"
   },
   {
    "duration": 16,
    "start_time": "2024-07-18T22:55:06.920Z"
   },
   {
    "duration": 7,
    "start_time": "2024-07-18T22:55:18.060Z"
   },
   {
    "duration": 10,
    "start_time": "2024-07-18T22:57:49.628Z"
   },
   {
    "duration": 5,
    "start_time": "2024-07-18T22:58:02.757Z"
   },
   {
    "duration": 10,
    "start_time": "2024-07-18T23:05:32.668Z"
   },
   {
    "duration": 47,
    "start_time": "2024-07-18T23:09:26.836Z"
   },
   {
    "duration": 1328,
    "start_time": "2024-07-19T07:26:39.422Z"
   },
   {
    "duration": 131,
    "start_time": "2024-07-19T07:26:40.752Z"
   },
   {
    "duration": 16,
    "start_time": "2024-07-19T07:26:40.884Z"
   },
   {
    "duration": 8,
    "start_time": "2024-07-19T07:26:40.902Z"
   },
   {
    "duration": 215,
    "start_time": "2024-07-19T07:26:40.912Z"
   },
   {
    "duration": 18,
    "start_time": "2024-07-19T07:26:41.129Z"
   },
   {
    "duration": 8,
    "start_time": "2024-07-19T07:26:41.149Z"
   },
   {
    "duration": 89,
    "start_time": "2024-07-19T07:26:41.159Z"
   },
   {
    "duration": 15,
    "start_time": "2024-07-19T07:26:41.250Z"
   },
   {
    "duration": 62,
    "start_time": "2024-07-19T07:26:41.267Z"
   },
   {
    "duration": 8,
    "start_time": "2024-07-19T07:26:41.331Z"
   },
   {
    "duration": 9,
    "start_time": "2024-07-19T07:26:41.341Z"
   },
   {
    "duration": 9,
    "start_time": "2024-07-19T07:26:41.351Z"
   },
   {
    "duration": 7,
    "start_time": "2024-07-19T07:26:41.361Z"
   },
   {
    "duration": 20,
    "start_time": "2024-07-19T07:26:41.369Z"
   },
   {
    "duration": 16,
    "start_time": "2024-07-19T07:26:41.390Z"
   },
   {
    "duration": 27,
    "start_time": "2024-07-19T07:26:41.407Z"
   },
   {
    "duration": 14,
    "start_time": "2024-07-19T07:26:41.436Z"
   },
   {
    "duration": 18,
    "start_time": "2024-07-19T07:26:41.451Z"
   },
   {
    "duration": 17,
    "start_time": "2024-07-19T07:26:41.470Z"
   },
   {
    "duration": 15,
    "start_time": "2024-07-19T07:26:41.489Z"
   },
   {
    "duration": 204,
    "start_time": "2024-07-19T07:26:41.506Z"
   },
   {
    "duration": 13,
    "start_time": "2024-07-19T07:26:41.712Z"
   },
   {
    "duration": 193,
    "start_time": "2024-07-19T07:26:41.728Z"
   },
   {
    "duration": 318,
    "start_time": "2024-07-19T07:26:41.923Z"
   },
   {
    "duration": 9,
    "start_time": "2024-07-19T07:26:42.243Z"
   },
   {
    "duration": 12,
    "start_time": "2024-07-19T07:26:42.254Z"
   },
   {
    "duration": 805,
    "start_time": "2024-07-19T07:26:42.283Z"
   },
   {
    "duration": 10,
    "start_time": "2024-07-19T07:26:43.090Z"
   },
   {
    "duration": 204,
    "start_time": "2024-07-19T07:26:43.102Z"
   },
   {
    "duration": 27,
    "start_time": "2024-07-19T07:26:43.308Z"
   },
   {
    "duration": 14,
    "start_time": "2024-07-19T07:26:43.337Z"
   },
   {
    "duration": 31,
    "start_time": "2024-07-19T07:26:43.353Z"
   },
   {
    "duration": 7,
    "start_time": "2024-07-19T07:26:43.386Z"
   },
   {
    "duration": 32,
    "start_time": "2024-07-19T07:26:43.394Z"
   },
   {
    "duration": 30,
    "start_time": "2024-07-19T07:26:43.427Z"
   },
   {
    "duration": 365,
    "start_time": "2024-07-19T07:26:43.459Z"
   },
   {
    "duration": 352,
    "start_time": "2024-07-19T07:26:43.826Z"
   },
   {
    "duration": 45,
    "start_time": "2024-07-19T07:26:44.179Z"
   },
   {
    "duration": 20,
    "start_time": "2024-07-19T07:26:44.225Z"
   },
   {
    "duration": 37,
    "start_time": "2024-07-19T07:26:44.247Z"
   },
   {
    "duration": 5,
    "start_time": "2024-07-19T07:26:44.286Z"
   },
   {
    "duration": 8,
    "start_time": "2024-07-19T07:26:44.292Z"
   },
   {
    "duration": 13,
    "start_time": "2024-07-19T07:26:44.301Z"
   },
   {
    "duration": 7,
    "start_time": "2024-07-19T07:32:51.320Z"
   },
   {
    "duration": 1221,
    "start_time": "2024-07-19T07:36:37.108Z"
   },
   {
    "duration": 40,
    "start_time": "2024-07-19T07:36:38.331Z"
   },
   {
    "duration": 25,
    "start_time": "2024-07-19T07:36:38.373Z"
   },
   {
    "duration": 13,
    "start_time": "2024-07-19T07:36:38.401Z"
   },
   {
    "duration": 41,
    "start_time": "2024-07-19T07:36:38.416Z"
   },
   {
    "duration": 36,
    "start_time": "2024-07-19T07:36:38.458Z"
   },
   {
    "duration": 9,
    "start_time": "2024-07-19T07:36:38.496Z"
   },
   {
    "duration": 24,
    "start_time": "2024-07-19T07:36:38.506Z"
   },
   {
    "duration": 17,
    "start_time": "2024-07-19T07:36:38.531Z"
   },
   {
    "duration": 32,
    "start_time": "2024-07-19T07:36:38.551Z"
   },
   {
    "duration": 6,
    "start_time": "2024-07-19T07:36:38.584Z"
   },
   {
    "duration": 7,
    "start_time": "2024-07-19T07:36:38.592Z"
   },
   {
    "duration": 9,
    "start_time": "2024-07-19T07:36:38.600Z"
   },
   {
    "duration": 4,
    "start_time": "2024-07-19T07:36:38.610Z"
   },
   {
    "duration": 8,
    "start_time": "2024-07-19T07:36:38.615Z"
   },
   {
    "duration": 27,
    "start_time": "2024-07-19T07:36:38.624Z"
   },
   {
    "duration": 5,
    "start_time": "2024-07-19T07:36:38.653Z"
   },
   {
    "duration": 25,
    "start_time": "2024-07-19T07:36:38.659Z"
   },
   {
    "duration": 11,
    "start_time": "2024-07-19T07:36:38.685Z"
   },
   {
    "duration": 14,
    "start_time": "2024-07-19T07:36:38.698Z"
   },
   {
    "duration": 14,
    "start_time": "2024-07-19T07:36:38.714Z"
   },
   {
    "duration": 206,
    "start_time": "2024-07-19T07:36:38.729Z"
   },
   {
    "duration": 11,
    "start_time": "2024-07-19T07:36:38.937Z"
   },
   {
    "duration": 256,
    "start_time": "2024-07-19T07:36:38.949Z"
   },
   {
    "duration": 310,
    "start_time": "2024-07-19T07:36:39.207Z"
   },
   {
    "duration": 8,
    "start_time": "2024-07-19T07:36:39.519Z"
   },
   {
    "duration": 45,
    "start_time": "2024-07-19T07:36:39.528Z"
   },
   {
    "duration": 795,
    "start_time": "2024-07-19T07:36:39.576Z"
   },
   {
    "duration": 16,
    "start_time": "2024-07-19T07:36:40.373Z"
   },
   {
    "duration": 197,
    "start_time": "2024-07-19T07:36:40.390Z"
   },
   {
    "duration": 27,
    "start_time": "2024-07-19T07:36:40.588Z"
   },
   {
    "duration": 12,
    "start_time": "2024-07-19T07:36:40.617Z"
   },
   {
    "duration": 7,
    "start_time": "2024-07-19T07:36:40.630Z"
   },
   {
    "duration": 5,
    "start_time": "2024-07-19T07:36:40.639Z"
   },
   {
    "duration": 61,
    "start_time": "2024-07-19T07:36:40.645Z"
   },
   {
    "duration": 30,
    "start_time": "2024-07-19T07:36:40.708Z"
   },
   {
    "duration": 361,
    "start_time": "2024-07-19T07:36:40.739Z"
   },
   {
    "duration": 356,
    "start_time": "2024-07-19T07:36:41.102Z"
   },
   {
    "duration": 47,
    "start_time": "2024-07-19T07:36:41.459Z"
   },
   {
    "duration": 21,
    "start_time": "2024-07-19T07:36:41.507Z"
   },
   {
    "duration": 15,
    "start_time": "2024-07-19T07:36:41.530Z"
   },
   {
    "duration": 7,
    "start_time": "2024-07-19T07:36:41.546Z"
   },
   {
    "duration": 4,
    "start_time": "2024-07-19T07:36:41.555Z"
   },
   {
    "duration": 31,
    "start_time": "2024-07-19T07:36:41.560Z"
   },
   {
    "duration": 73,
    "start_time": "2024-07-19T15:49:22.886Z"
   },
   {
    "duration": 1739,
    "start_time": "2024-07-19T15:49:32.756Z"
   },
   {
    "duration": 74,
    "start_time": "2024-07-19T15:55:53.109Z"
   },
   {
    "duration": 134,
    "start_time": "2024-07-19T15:56:00.179Z"
   },
   {
    "duration": 22,
    "start_time": "2024-07-19T15:56:02.149Z"
   },
   {
    "duration": 13,
    "start_time": "2024-07-19T15:56:05.178Z"
   },
   {
    "duration": 213,
    "start_time": "2024-07-19T15:56:07.333Z"
   },
   {
    "duration": 28,
    "start_time": "2024-07-19T15:56:09.800Z"
   },
   {
    "duration": 10,
    "start_time": "2024-07-19T15:56:12.027Z"
   },
   {
    "duration": 105,
    "start_time": "2024-07-19T15:56:14.412Z"
   },
   {
    "duration": 18,
    "start_time": "2024-07-19T15:56:17.129Z"
   },
   {
    "duration": 8,
    "start_time": "2024-07-19T15:56:19.376Z"
   },
   {
    "duration": 7,
    "start_time": "2024-07-19T15:56:21.885Z"
   },
   {
    "duration": 10,
    "start_time": "2024-07-19T15:56:23.627Z"
   },
   {
    "duration": 9,
    "start_time": "2024-07-19T15:56:25.921Z"
   },
   {
    "duration": 5,
    "start_time": "2024-07-19T15:56:27.782Z"
   },
   {
    "duration": 6,
    "start_time": "2024-07-19T15:56:30.993Z"
   },
   {
    "duration": 7,
    "start_time": "2024-07-19T15:56:35.054Z"
   },
   {
    "duration": 19,
    "start_time": "2024-07-19T15:56:37.772Z"
   },
   {
    "duration": 12,
    "start_time": "2024-07-19T15:56:52.755Z"
   },
   {
    "duration": 14,
    "start_time": "2024-07-19T15:56:56.351Z"
   },
   {
    "duration": 7,
    "start_time": "2024-07-19T15:57:04.319Z"
   },
   {
    "duration": 6,
    "start_time": "2024-07-19T15:57:38.034Z"
   },
   {
    "duration": 8,
    "start_time": "2024-07-19T15:57:47.855Z"
   },
   {
    "duration": 18,
    "start_time": "2024-07-19T15:59:31.949Z"
   },
   {
    "duration": 13,
    "start_time": "2024-07-19T16:01:08.785Z"
   },
   {
    "duration": 199,
    "start_time": "2024-07-19T16:04:53.690Z"
   },
   {
    "duration": 30,
    "start_time": "2024-07-19T16:25:41.019Z"
   },
   {
    "duration": 14,
    "start_time": "2024-07-19T16:25:44.657Z"
   },
   {
    "duration": 7,
    "start_time": "2024-07-19T16:25:47.527Z"
   },
   {
    "duration": 5,
    "start_time": "2024-07-19T16:25:49.354Z"
   },
   {
    "duration": 33,
    "start_time": "2024-07-19T16:25:51.454Z"
   },
   {
    "duration": 35,
    "start_time": "2024-07-19T16:25:54.012Z"
   },
   {
    "duration": 392,
    "start_time": "2024-07-19T16:25:56.234Z"
   },
   {
    "duration": 399,
    "start_time": "2024-07-19T16:26:00.711Z"
   },
   {
    "duration": 45,
    "start_time": "2024-07-19T16:26:07.924Z"
   },
   {
    "duration": 21,
    "start_time": "2024-07-19T16:26:15.335Z"
   },
   {
    "duration": 5,
    "start_time": "2024-07-19T16:27:03.675Z"
   },
   {
    "duration": 182,
    "start_time": "2024-07-19T16:27:05.960Z"
   },
   {
    "duration": 30,
    "start_time": "2024-07-19T16:27:09.272Z"
   },
   {
    "duration": 15,
    "start_time": "2024-07-19T16:27:11.974Z"
   },
   {
    "duration": 7,
    "start_time": "2024-07-19T16:27:14.183Z"
   },
   {
    "duration": 5,
    "start_time": "2024-07-19T16:27:15.896Z"
   },
   {
    "duration": 37,
    "start_time": "2024-07-19T16:27:17.799Z"
   },
   {
    "duration": 32,
    "start_time": "2024-07-19T16:27:20.370Z"
   },
   {
    "duration": 415,
    "start_time": "2024-07-19T16:27:22.603Z"
   },
   {
    "duration": 380,
    "start_time": "2024-07-19T16:27:25.454Z"
   },
   {
    "duration": 452,
    "start_time": "2024-07-19T16:27:35.284Z"
   },
   {
    "duration": 389,
    "start_time": "2024-07-19T16:28:02.002Z"
   },
   {
    "duration": 20,
    "start_time": "2024-07-19T16:29:51.527Z"
   },
   {
    "duration": 3,
    "start_time": "2024-07-19T16:34:13.385Z"
   },
   {
    "duration": 2,
    "start_time": "2024-07-19T16:34:15.611Z"
   },
   {
    "duration": 264,
    "start_time": "2024-07-19T16:34:34.891Z"
   },
   {
    "duration": 244,
    "start_time": "2024-07-19T16:35:24.805Z"
   },
   {
    "duration": 4,
    "start_time": "2024-07-19T16:36:57.058Z"
   },
   {
    "duration": 6,
    "start_time": "2024-07-19T16:36:58.900Z"
   },
   {
    "duration": 9,
    "start_time": "2024-07-19T16:37:02.510Z"
   },
   {
    "duration": 8,
    "start_time": "2024-07-19T16:37:04.108Z"
   },
   {
    "duration": 7,
    "start_time": "2024-07-19T16:37:04.277Z"
   },
   {
    "duration": 7,
    "start_time": "2024-07-19T16:37:04.438Z"
   },
   {
    "duration": 6,
    "start_time": "2024-07-19T16:37:04.601Z"
   },
   {
    "duration": 6,
    "start_time": "2024-07-19T16:37:07.243Z"
   },
   {
    "duration": 13,
    "start_time": "2024-07-19T16:37:07.403Z"
   },
   {
    "duration": 16,
    "start_time": "2024-07-19T16:37:07.575Z"
   },
   {
    "duration": 19,
    "start_time": "2024-07-19T16:37:07.738Z"
   },
   {
    "duration": 202,
    "start_time": "2024-07-19T16:37:08.730Z"
   },
   {
    "duration": 6,
    "start_time": "2024-07-19T16:37:08.934Z"
   },
   {
    "duration": 181,
    "start_time": "2024-07-19T16:37:09.398Z"
   },
   {
    "duration": 297,
    "start_time": "2024-07-19T16:37:10.620Z"
   },
   {
    "duration": 8,
    "start_time": "2024-07-19T16:37:10.958Z"
   },
   {
    "duration": 255,
    "start_time": "2024-07-19T16:37:37.323Z"
   },
   {
    "duration": 47,
    "start_time": "2024-07-19T16:37:48.972Z"
   },
   {
    "duration": 47,
    "start_time": "2024-07-19T16:37:56.475Z"
   },
   {
    "duration": 183,
    "start_time": "2024-07-19T16:38:01.174Z"
   },
   {
    "duration": 47,
    "start_time": "2024-07-19T16:38:29.908Z"
   },
   {
    "duration": 178,
    "start_time": "2024-07-19T16:38:34.005Z"
   },
   {
    "duration": 8,
    "start_time": "2024-07-19T16:39:42.373Z"
   },
   {
    "duration": 171,
    "start_time": "2024-07-19T16:39:42.553Z"
   },
   {
    "duration": 36,
    "start_time": "2024-07-19T16:39:46.662Z"
   },
   {
    "duration": 15,
    "start_time": "2024-07-19T16:39:49.445Z"
   },
   {
    "duration": 6,
    "start_time": "2024-07-19T16:39:50.016Z"
   },
   {
    "duration": 6,
    "start_time": "2024-07-19T16:39:50.367Z"
   },
   {
    "duration": 32,
    "start_time": "2024-07-19T16:39:50.575Z"
   },
   {
    "duration": 32,
    "start_time": "2024-07-19T16:39:51.003Z"
   },
   {
    "duration": 263,
    "start_time": "2024-07-19T16:39:51.427Z"
   },
   {
    "duration": 247,
    "start_time": "2024-07-19T16:39:52.849Z"
   },
   {
    "duration": 3,
    "start_time": "2024-07-19T16:39:53.657Z"
   },
   {
    "duration": 62,
    "start_time": "2024-07-19T16:46:47.672Z"
   },
   {
    "duration": 22,
    "start_time": "2024-07-19T16:46:52.157Z"
   },
   {
    "duration": 14,
    "start_time": "2024-07-19T16:47:05.387Z"
   },
   {
    "duration": 853,
    "start_time": "2024-07-19T16:48:24.178Z"
   },
   {
    "duration": 9,
    "start_time": "2024-07-19T16:48:31.983Z"
   },
   {
    "duration": 8,
    "start_time": "2024-07-19T16:50:10.540Z"
   },
   {
    "duration": 9,
    "start_time": "2024-07-19T16:50:17.621Z"
   },
   {
    "duration": 882,
    "start_time": "2024-07-19T16:54:13.202Z"
   },
   {
    "duration": 912,
    "start_time": "2024-07-19T16:54:31.031Z"
   },
   {
    "duration": 5,
    "start_time": "2024-07-19T16:55:32.177Z"
   },
   {
    "duration": 1233,
    "start_time": "2024-07-19T17:18:39.408Z"
   },
   {
    "duration": 37,
    "start_time": "2024-07-19T17:18:40.645Z"
   },
   {
    "duration": 16,
    "start_time": "2024-07-19T17:18:40.684Z"
   },
   {
    "duration": 9,
    "start_time": "2024-07-19T17:18:40.701Z"
   },
   {
    "duration": 37,
    "start_time": "2024-07-19T17:18:40.713Z"
   },
   {
    "duration": 20,
    "start_time": "2024-07-19T17:18:40.753Z"
   },
   {
    "duration": 8,
    "start_time": "2024-07-19T17:18:40.775Z"
   },
   {
    "duration": 26,
    "start_time": "2024-07-19T17:18:40.785Z"
   },
   {
    "duration": 31,
    "start_time": "2024-07-19T17:18:40.813Z"
   },
   {
    "duration": 10,
    "start_time": "2024-07-19T17:18:40.846Z"
   },
   {
    "duration": 6,
    "start_time": "2024-07-19T17:18:40.857Z"
   },
   {
    "duration": 6,
    "start_time": "2024-07-19T17:18:40.864Z"
   },
   {
    "duration": 14,
    "start_time": "2024-07-19T17:18:40.872Z"
   },
   {
    "duration": 8,
    "start_time": "2024-07-19T17:18:40.889Z"
   },
   {
    "duration": 4,
    "start_time": "2024-07-19T17:18:40.899Z"
   },
   {
    "duration": 8,
    "start_time": "2024-07-19T17:18:40.937Z"
   },
   {
    "duration": 10,
    "start_time": "2024-07-19T17:18:40.948Z"
   },
   {
    "duration": 5,
    "start_time": "2024-07-19T17:18:40.959Z"
   },
   {
    "duration": 9,
    "start_time": "2024-07-19T17:18:40.966Z"
   },
   {
    "duration": 25,
    "start_time": "2024-07-19T17:18:40.977Z"
   },
   {
    "duration": 44,
    "start_time": "2024-07-19T17:18:41.003Z"
   },
   {
    "duration": 208,
    "start_time": "2024-07-19T17:18:41.049Z"
   },
   {
    "duration": 6,
    "start_time": "2024-07-19T17:18:41.258Z"
   },
   {
    "duration": 189,
    "start_time": "2024-07-19T17:18:41.265Z"
   },
   {
    "duration": 334,
    "start_time": "2024-07-19T17:18:41.458Z"
   },
   {
    "duration": 9,
    "start_time": "2024-07-19T17:18:41.794Z"
   },
   {
    "duration": 10,
    "start_time": "2024-07-19T17:18:41.804Z"
   },
   {
    "duration": 903,
    "start_time": "2024-07-19T17:18:41.815Z"
   },
   {
    "duration": 9,
    "start_time": "2024-07-19T17:18:42.719Z"
   },
   {
    "duration": 181,
    "start_time": "2024-07-19T17:18:42.738Z"
   },
   {
    "duration": 42,
    "start_time": "2024-07-19T17:18:42.921Z"
   },
   {
    "duration": 14,
    "start_time": "2024-07-19T17:18:42.965Z"
   },
   {
    "duration": 8,
    "start_time": "2024-07-19T17:18:42.981Z"
   },
   {
    "duration": 10,
    "start_time": "2024-07-19T17:18:42.991Z"
   },
   {
    "duration": 61,
    "start_time": "2024-07-19T17:18:43.003Z"
   },
   {
    "duration": 31,
    "start_time": "2024-07-19T17:18:43.066Z"
   },
   {
    "duration": 307,
    "start_time": "2024-07-19T17:18:43.098Z"
   },
   {
    "duration": 284,
    "start_time": "2024-07-19T17:18:43.406Z"
   },
   {
    "duration": 3,
    "start_time": "2024-07-19T17:18:43.691Z"
   },
   {
    "duration": 57,
    "start_time": "2024-07-19T17:18:43.695Z"
   },
   {
    "duration": 19,
    "start_time": "2024-07-19T17:18:43.757Z"
   },
   {
    "duration": 22,
    "start_time": "2024-07-19T17:18:43.777Z"
   },
   {
    "duration": 4,
    "start_time": "2024-07-19T17:18:43.801Z"
   },
   {
    "duration": 10,
    "start_time": "2024-07-19T17:18:43.807Z"
   },
   {
    "duration": 27,
    "start_time": "2024-07-19T17:18:43.818Z"
   },
   {
    "duration": 14,
    "start_time": "2024-07-19T17:18:43.847Z"
   }
  ],
  "kernelspec": {
   "display_name": "Python 3 (ipykernel)",
   "language": "python",
   "name": "python3"
  },
  "language_info": {
   "codemirror_mode": {
    "name": "ipython",
    "version": 3
   },
   "file_extension": ".py",
   "mimetype": "text/x-python",
   "name": "python",
   "nbconvert_exporter": "python",
   "pygments_lexer": "ipython3",
   "version": "3.9.5"
  },
  "toc": {
   "base_numbering": 1,
   "nav_menu": {},
   "number_sections": true,
   "sideBar": true,
   "skip_h1_title": true,
   "title_cell": "Table of Contents",
   "title_sidebar": "Contents",
   "toc_cell": false,
   "toc_position": {},
   "toc_section_display": true,
   "toc_window_display": false
  }
 },
 "nbformat": 4,
 "nbformat_minor": 5
}
